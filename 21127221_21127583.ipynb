{
 "cells": [
  {
   "cell_type": "markdown",
   "id": "e020137e",
   "metadata": {},
   "source": [
    "# **Final Project - Lập trình cho Khoa học Dữ liệu**"
   ]
  },
  {
   "cell_type": "markdown",
   "id": "31b95733-cf9f-419d-94ca-44427f9e4257",
   "metadata": {},
   "source": [
    "## **Thông tin nhóm**"
   ]
  },
  {
   "cell_type": "markdown",
   "id": "4ada61c2",
   "metadata": {},
   "source": [
    "#### Thành viên 1:\n",
    "* **Họ và tên:** Võ Duy Anh\n",
    "* **MSSV:** 21127221"
   ]
  },
  {
   "cell_type": "markdown",
   "id": "8d159cd4",
   "metadata": {},
   "source": [
    "#### Thành viên 2:\n",
    "* **Họ và tên:** Nguyễn Mậu Gia Bảo\n",
    "* **MSSV:** 21127583"
   ]
  },
  {
   "cell_type": "markdown",
   "id": "15657209",
   "metadata": {},
   "source": [
    "## **Thông tin đồ án**"
   ]
  },
  {
   "cell_type": "markdown",
   "id": "2f5b4a8a",
   "metadata": {},
   "source": [
    "### **Nội dung**\n",
    "1. Collecting data\n",
    "2. Exploring data\n",
    "3. Asking meaningful questions\n",
    "4. Preprocessing + analyzing data to answer each question\n",
    "5. Reflection\n",
    "6. References"
   ]
  },
  {
   "cell_type": "markdown",
   "id": "6a82adc8",
   "metadata": {},
   "source": [
    "### **Thư viện hỗ trợ**"
   ]
  },
  {
   "cell_type": "code",
   "execution_count": 2,
   "id": "9033d56f",
   "metadata": {},
   "outputs": [],
   "source": [
    "import pandas as pd\n",
    "import seaborn as sns\n",
    "import matplotlib.pyplot as plt"
   ]
  },
  {
   "cell_type": "markdown",
   "id": "37c78354",
   "metadata": {},
   "source": [
    "### **1. Collecting data**"
   ]
  },
  {
   "cell_type": "markdown",
   "id": "2eef550b",
   "metadata": {},
   "source": [
    "#### What subject is your data about? What is the source of your data?"
   ]
  },
  {
   "cell_type": "markdown",
   "id": "b977bc75",
   "metadata": {},
   "source": [
    "* Dataset name: Airline Dataset\n",
    "* The dataset contains information about passengers and their flights collected around the world\n",
    "* The dataset was collected and the team got it from the Kaggle website\n",
    "[Airline Dataset](https://www.kaggle.com/datasets/iamsouravbanerjee/airline-dataset/)"
   ]
  },
  {
   "cell_type": "markdown",
   "id": "b5883b6e",
   "metadata": {},
   "source": [
    "#### Do authors of this data allow you to use like this? You can check the data license"
   ]
  },
  {
   "cell_type": "markdown",
   "id": "723f968b",
   "metadata": {},
   "source": [
    "* The dataset is publicly available under the license: [CC0: Public Domain](https://creativecommons.org/publicdomain/zero/1.0/)\n",
    "\n",
    "> CC0: Public Domain. \n",
    "    The person who associated a work with this deed has dedicated the work to the public domain by waiving all of his or her rights to the work worldwide under copyright law, including all related and neighboring rights, to the extent allowed by law.\n",
    "    **You can copy, modify, distribute and perform the work, even for commercial purposes, all without asking permission.**"
   ]
  },
  {
   "cell_type": "markdown",
   "id": "a86e304a",
   "metadata": {},
   "source": [
    "#### How did authors collect data?"
   ]
  },
  {
   "cell_type": "markdown",
   "id": "5dd21f5d",
   "metadata": {},
   "source": [
    "* The dataset is collected from the online platform [Mockaroo](https://www.mockaroo.com/). To ensure customers' personal information, the website provides customized aggregated data that is close to actual information."
   ]
  },
  {
   "cell_type": "markdown",
   "id": "4afe7d19",
   "metadata": {},
   "source": [
    "### **2.Exploring data**"
   ]
  },
  {
   "cell_type": "code",
   "execution_count": 3,
   "id": "e60ee633",
   "metadata": {},
   "outputs": [
    {
     "data": {
      "text/html": [
       "<div>\n",
       "<style scoped>\n",
       "    .dataframe tbody tr th:only-of-type {\n",
       "        vertical-align: middle;\n",
       "    }\n",
       "\n",
       "    .dataframe tbody tr th {\n",
       "        vertical-align: top;\n",
       "    }\n",
       "\n",
       "    .dataframe thead th {\n",
       "        text-align: right;\n",
       "    }\n",
       "</style>\n",
       "<table border=\"1\" class=\"dataframe\">\n",
       "  <thead>\n",
       "    <tr style=\"text-align: right;\">\n",
       "      <th></th>\n",
       "      <th>Passenger ID</th>\n",
       "      <th>First Name</th>\n",
       "      <th>Last Name</th>\n",
       "      <th>Gender</th>\n",
       "      <th>Age</th>\n",
       "      <th>Nationality</th>\n",
       "      <th>Airport Name</th>\n",
       "      <th>Airport Country Code</th>\n",
       "      <th>Country Name</th>\n",
       "      <th>Airport Continent</th>\n",
       "      <th>Continents</th>\n",
       "      <th>Departure Date</th>\n",
       "      <th>Arrival Airport</th>\n",
       "      <th>Pilot Name</th>\n",
       "      <th>Flight Status</th>\n",
       "    </tr>\n",
       "  </thead>\n",
       "  <tbody>\n",
       "    <tr>\n",
       "      <th>0</th>\n",
       "      <td>10856</td>\n",
       "      <td>Edithe</td>\n",
       "      <td>Leggis</td>\n",
       "      <td>Female</td>\n",
       "      <td>62</td>\n",
       "      <td>Japan</td>\n",
       "      <td>Coldfoot Airport</td>\n",
       "      <td>US</td>\n",
       "      <td>United States</td>\n",
       "      <td>NAM</td>\n",
       "      <td>North America</td>\n",
       "      <td>6/28/2022</td>\n",
       "      <td>CXF</td>\n",
       "      <td>Edithe Leggis</td>\n",
       "      <td>On Time</td>\n",
       "    </tr>\n",
       "    <tr>\n",
       "      <th>1</th>\n",
       "      <td>43872</td>\n",
       "      <td>Elwood</td>\n",
       "      <td>Catt</td>\n",
       "      <td>Male</td>\n",
       "      <td>62</td>\n",
       "      <td>Nicaragua</td>\n",
       "      <td>Kugluktuk Airport</td>\n",
       "      <td>CA</td>\n",
       "      <td>Canada</td>\n",
       "      <td>NAM</td>\n",
       "      <td>North America</td>\n",
       "      <td>12/26/2022</td>\n",
       "      <td>YCO</td>\n",
       "      <td>Elwood Catt</td>\n",
       "      <td>On Time</td>\n",
       "    </tr>\n",
       "    <tr>\n",
       "      <th>2</th>\n",
       "      <td>42633</td>\n",
       "      <td>Darby</td>\n",
       "      <td>Felgate</td>\n",
       "      <td>Male</td>\n",
       "      <td>67</td>\n",
       "      <td>Russia</td>\n",
       "      <td>Grenoble-Isère Airport</td>\n",
       "      <td>FR</td>\n",
       "      <td>France</td>\n",
       "      <td>EU</td>\n",
       "      <td>Europe</td>\n",
       "      <td>1/18/2022</td>\n",
       "      <td>GNB</td>\n",
       "      <td>Darby Felgate</td>\n",
       "      <td>On Time</td>\n",
       "    </tr>\n",
       "    <tr>\n",
       "      <th>3</th>\n",
       "      <td>78493</td>\n",
       "      <td>Dominica</td>\n",
       "      <td>Pyle</td>\n",
       "      <td>Female</td>\n",
       "      <td>71</td>\n",
       "      <td>China</td>\n",
       "      <td>Ottawa / Gatineau Airport</td>\n",
       "      <td>CA</td>\n",
       "      <td>Canada</td>\n",
       "      <td>NAM</td>\n",
       "      <td>North America</td>\n",
       "      <td>9/16/2022</td>\n",
       "      <td>YND</td>\n",
       "      <td>Dominica Pyle</td>\n",
       "      <td>Delayed</td>\n",
       "    </tr>\n",
       "    <tr>\n",
       "      <th>4</th>\n",
       "      <td>82072</td>\n",
       "      <td>Bay</td>\n",
       "      <td>Pencost</td>\n",
       "      <td>Male</td>\n",
       "      <td>21</td>\n",
       "      <td>China</td>\n",
       "      <td>Gillespie Field</td>\n",
       "      <td>US</td>\n",
       "      <td>United States</td>\n",
       "      <td>NAM</td>\n",
       "      <td>North America</td>\n",
       "      <td>2/25/2022</td>\n",
       "      <td>SEE</td>\n",
       "      <td>Bay Pencost</td>\n",
       "      <td>On Time</td>\n",
       "    </tr>\n",
       "    <tr>\n",
       "      <th>...</th>\n",
       "      <td>...</td>\n",
       "      <td>...</td>\n",
       "      <td>...</td>\n",
       "      <td>...</td>\n",
       "      <td>...</td>\n",
       "      <td>...</td>\n",
       "      <td>...</td>\n",
       "      <td>...</td>\n",
       "      <td>...</td>\n",
       "      <td>...</td>\n",
       "      <td>...</td>\n",
       "      <td>...</td>\n",
       "      <td>...</td>\n",
       "      <td>...</td>\n",
       "      <td>...</td>\n",
       "    </tr>\n",
       "    <tr>\n",
       "      <th>98614</th>\n",
       "      <td>58454</td>\n",
       "      <td>Gareth</td>\n",
       "      <td>Mugford</td>\n",
       "      <td>Male</td>\n",
       "      <td>85</td>\n",
       "      <td>China</td>\n",
       "      <td>Hasvik Airport</td>\n",
       "      <td>NO</td>\n",
       "      <td>Norway</td>\n",
       "      <td>EU</td>\n",
       "      <td>Europe</td>\n",
       "      <td>12/11/2022</td>\n",
       "      <td>HAA</td>\n",
       "      <td>Gareth Mugford</td>\n",
       "      <td>Cancelled</td>\n",
       "    </tr>\n",
       "    <tr>\n",
       "      <th>98615</th>\n",
       "      <td>22028</td>\n",
       "      <td>Kasey</td>\n",
       "      <td>Benedict</td>\n",
       "      <td>Female</td>\n",
       "      <td>19</td>\n",
       "      <td>Russia</td>\n",
       "      <td>Ampampamena Airport</td>\n",
       "      <td>MG</td>\n",
       "      <td>Madagascar</td>\n",
       "      <td>AF</td>\n",
       "      <td>Africa</td>\n",
       "      <td>10/30/2022</td>\n",
       "      <td>IVA</td>\n",
       "      <td>Kasey Benedict</td>\n",
       "      <td>Cancelled</td>\n",
       "    </tr>\n",
       "    <tr>\n",
       "      <th>98616</th>\n",
       "      <td>61732</td>\n",
       "      <td>Darrin</td>\n",
       "      <td>Lucken</td>\n",
       "      <td>Male</td>\n",
       "      <td>65</td>\n",
       "      <td>Indonesia</td>\n",
       "      <td>Albacete-Los Llanos Airport</td>\n",
       "      <td>ES</td>\n",
       "      <td>Spain</td>\n",
       "      <td>EU</td>\n",
       "      <td>Europe</td>\n",
       "      <td>9/10/2022</td>\n",
       "      <td>ABC</td>\n",
       "      <td>Darrin Lucken</td>\n",
       "      <td>On Time</td>\n",
       "    </tr>\n",
       "    <tr>\n",
       "      <th>98617</th>\n",
       "      <td>19819</td>\n",
       "      <td>Gayle</td>\n",
       "      <td>Lievesley</td>\n",
       "      <td>Female</td>\n",
       "      <td>34</td>\n",
       "      <td>China</td>\n",
       "      <td>Gagnoa Airport</td>\n",
       "      <td>CI</td>\n",
       "      <td>Côte d'Ivoire</td>\n",
       "      <td>AF</td>\n",
       "      <td>Africa</td>\n",
       "      <td>10/26/2022</td>\n",
       "      <td>GGN</td>\n",
       "      <td>Gayle Lievesley</td>\n",
       "      <td>Cancelled</td>\n",
       "    </tr>\n",
       "    <tr>\n",
       "      <th>98618</th>\n",
       "      <td>14485</td>\n",
       "      <td>Wilhelmine</td>\n",
       "      <td>Touret</td>\n",
       "      <td>Female</td>\n",
       "      <td>10</td>\n",
       "      <td>Poland</td>\n",
       "      <td>Yoshkar-Ola Airport</td>\n",
       "      <td>RU</td>\n",
       "      <td>Russian Federation</td>\n",
       "      <td>EU</td>\n",
       "      <td>Europe</td>\n",
       "      <td>4/16/2022</td>\n",
       "      <td>JOK</td>\n",
       "      <td>Wilhelmine Touret</td>\n",
       "      <td>Delayed</td>\n",
       "    </tr>\n",
       "  </tbody>\n",
       "</table>\n",
       "<p>98619 rows × 15 columns</p>\n",
       "</div>"
      ],
      "text/plain": [
       "       Passenger ID  First Name  Last Name  Gender  Age Nationality  \\\n",
       "0             10856      Edithe     Leggis  Female   62       Japan   \n",
       "1             43872      Elwood       Catt    Male   62   Nicaragua   \n",
       "2             42633       Darby    Felgate    Male   67      Russia   \n",
       "3             78493    Dominica       Pyle  Female   71       China   \n",
       "4             82072         Bay    Pencost    Male   21       China   \n",
       "...             ...         ...        ...     ...  ...         ...   \n",
       "98614         58454      Gareth    Mugford    Male   85       China   \n",
       "98615         22028       Kasey   Benedict  Female   19      Russia   \n",
       "98616         61732      Darrin     Lucken    Male   65   Indonesia   \n",
       "98617         19819       Gayle  Lievesley  Female   34       China   \n",
       "98618         14485  Wilhelmine     Touret  Female   10      Poland   \n",
       "\n",
       "                      Airport Name Airport Country Code        Country Name  \\\n",
       "0                 Coldfoot Airport                   US       United States   \n",
       "1                Kugluktuk Airport                   CA              Canada   \n",
       "2           Grenoble-Isère Airport                   FR              France   \n",
       "3        Ottawa / Gatineau Airport                   CA              Canada   \n",
       "4                  Gillespie Field                   US       United States   \n",
       "...                            ...                  ...                 ...   \n",
       "98614               Hasvik Airport                   NO              Norway   \n",
       "98615          Ampampamena Airport                   MG          Madagascar   \n",
       "98616  Albacete-Los Llanos Airport                   ES               Spain   \n",
       "98617               Gagnoa Airport                   CI       Côte d'Ivoire   \n",
       "98618          Yoshkar-Ola Airport                   RU  Russian Federation   \n",
       "\n",
       "      Airport Continent     Continents Departure Date Arrival Airport  \\\n",
       "0                   NAM  North America      6/28/2022             CXF   \n",
       "1                   NAM  North America     12/26/2022             YCO   \n",
       "2                    EU         Europe      1/18/2022             GNB   \n",
       "3                   NAM  North America      9/16/2022             YND   \n",
       "4                   NAM  North America      2/25/2022             SEE   \n",
       "...                 ...            ...            ...             ...   \n",
       "98614                EU         Europe     12/11/2022             HAA   \n",
       "98615                AF         Africa     10/30/2022             IVA   \n",
       "98616                EU         Europe      9/10/2022             ABC   \n",
       "98617                AF         Africa     10/26/2022             GGN   \n",
       "98618                EU         Europe      4/16/2022             JOK   \n",
       "\n",
       "              Pilot Name Flight Status  \n",
       "0          Edithe Leggis       On Time  \n",
       "1            Elwood Catt       On Time  \n",
       "2          Darby Felgate       On Time  \n",
       "3          Dominica Pyle       Delayed  \n",
       "4            Bay Pencost       On Time  \n",
       "...                  ...           ...  \n",
       "98614     Gareth Mugford     Cancelled  \n",
       "98615     Kasey Benedict     Cancelled  \n",
       "98616      Darrin Lucken       On Time  \n",
       "98617    Gayle Lievesley     Cancelled  \n",
       "98618  Wilhelmine Touret       Delayed  \n",
       "\n",
       "[98619 rows x 15 columns]"
      ]
     },
     "execution_count": 3,
     "metadata": {},
     "output_type": "execute_result"
    }
   ],
   "source": [
    "data = pd.read_csv(\"Airline Dataset.csv\")\n",
    "data"
   ]
  },
  {
   "cell_type": "markdown",
   "id": "8f81d3a4",
   "metadata": {},
   "source": [
    "#### How many rows and how many columns does the data have?"
   ]
  },
  {
   "cell_type": "code",
   "execution_count": 4,
   "id": "7957c1ad",
   "metadata": {},
   "outputs": [],
   "source": [
    "shape = data.shape"
   ]
  },
  {
   "cell_type": "code",
   "execution_count": 5,
   "id": "2a48da6e",
   "metadata": {},
   "outputs": [
    {
     "name": "stdout",
     "output_type": "stream",
     "text": [
      "Data have 98619 rows and 15 columns\n"
     ]
    }
   ],
   "source": [
    "row = data.shape[0]\n",
    "col = data.shape[1]\n",
    "print(f'Data have {row} rows and {col} columns')"
   ]
  },
  {
   "cell_type": "markdown",
   "id": "f326a098",
   "metadata": {},
   "source": [
    "#### What is the meaning of each row?"
   ]
  },
  {
   "cell_type": "markdown",
   "id": "17a1f88d",
   "metadata": {},
   "source": [
    "Mỗi dòng là thông tin của 1 hành khách và chuyến bay cụ thể"
   ]
  },
  {
   "cell_type": "markdown",
   "id": "1afa11db",
   "metadata": {},
   "source": [
    "#### Does the data have duplicate rows?"
   ]
  },
  {
   "cell_type": "code",
   "execution_count": 6,
   "id": "fc99d94a",
   "metadata": {},
   "outputs": [],
   "source": [
    "index = data.index\n",
    "detectDupSeries = index.duplicated(keep='first')\n",
    "num_duplicated_rows = detectDupSeries.sum()"
   ]
  },
  {
   "cell_type": "code",
   "execution_count": 7,
   "id": "9927136b",
   "metadata": {},
   "outputs": [
    {
     "name": "stdout",
     "output_type": "stream",
     "text": [
      "Data have no duplicated line.!\n"
     ]
    }
   ],
   "source": [
    "# TEST\n",
    "if num_duplicated_rows == 0:\n",
    "    print(f\"Data have no duplicated line.!\")\n",
    "else:\n",
    "    if num_duplicated_rows > 1:\n",
    "        ext = \"lines\"\n",
    "    else:\n",
    "        ext = \"line\"\n",
    "    print(f\"Data have {num_duplicated_rows} duplicated \" + ext + \".\")"
   ]
  },
  {
   "cell_type": "markdown",
   "id": "624993e3",
   "metadata": {},
   "source": [
    "#### What is the meaning of each column?"
   ]
  },
  {
   "cell_type": "markdown",
   "id": "193bf28d",
   "metadata": {},
   "source": [
    "|Cột|Ý nghĩa|\n",
    "|---|---|\n",
    "|**Passenger ID**|Mã định danh duy nhất cho mỗi hành khách| \n",
    "|**First Name**|Tên của hành khách|\n",
    "|**Last Name**|Họ của hành khách|\n",
    "|**Gender**|Giới tính của hành khách|\n",
    "|**Age**|Tuổi của hành khách|\n",
    "|**Nationality**|Quốc tịch của hành khách|\n",
    "|**Airport Name**|Tên sân bay nơi hành khách lên máy bay|\n",
    "|**Airport Country Code**|Mã quốc gia của sân bay xuất phát|\n",
    "|**Country Name**|Tên quốc gia của sân bay xuất phát|\n",
    "|**Airport Continent**|Châu lục của sân bay xuất phát|\n",
    "|**Continents**|Các châu lục liên quan đến đường bay|\n",
    "|**Departure Date**|Ngày chuyến bay khởi hành|\n",
    "|**Arrival Airport**|Sân bay đến của chuyến bay|\n",
    "|**Pilot Name**|Tên phi công điều hành chuyến bay|\n",
    "|**Flight Status**|Tình trạng hiện tại của chuyến bay (ví dụ: đúng giờ, bị hoãn, bị hủy)|"
   ]
  },
  {
   "cell_type": "markdown",
   "id": "8ce47a54",
   "metadata": {},
   "source": [
    "#### What is the current data type of each column? Are there columns having inappropriate data types?"
   ]
  },
  {
   "cell_type": "code",
   "execution_count": 8,
   "id": "78cfbbcc",
   "metadata": {},
   "outputs": [
    {
     "name": "stdout",
     "output_type": "stream",
     "text": [
      "Passenger ID             int64\n",
      "First Name              object\n",
      "Last Name               object\n",
      "Gender                  object\n",
      "Age                      int64\n",
      "Nationality             object\n",
      "Airport Name            object\n",
      "Airport Country Code    object\n",
      "Country Name            object\n",
      "Airport Continent       object\n",
      "Continents              object\n",
      "Departure Date          object\n",
      "Arrival Airport         object\n",
      "Pilot Name              object\n",
      "Flight Status           object\n",
      "dtype: object\n"
     ]
    }
   ],
   "source": [
    "column_types = data.dtypes\n",
    "print(column_types)"
   ]
  },
  {
   "cell_type": "markdown",
   "id": "ed714958",
   "metadata": {},
   "source": [
    "* Các cột `First Name`, `Last Name`, `Gender `, `Nationality`, `Airport Name`, `Airport Country Code`, `Country Name `, `Airport Continent`, `Continents`, `Arrival Airport`, `Pilot Name`,`Flight Status` có kiểu dữ liệu ở dạng chuỗi, kiểu dữ liệu này đã phù hợp.\n",
    "* Cột `Age` có kiểu dữ liệu là int64, kiểu dữ liệu này đã phù hợp.\n",
    "* Cột `Departure Date` có kiểu dữ liệu ở dạng chuỗi. Để thuận tiện hơn cho việc xử lý thời gian, cần chuyển về dạng Datetime\n",
    "* Cột `Passenger ID ` có kiểu dữ liệu là int64. Tuy nhiên vì đây là mã định danh duy nhất của mỗi hành khách, cần chuyển về dạng chuỗi      "
   ]
  },
  {
   "cell_type": "code",
   "execution_count": 9,
   "id": "c720096f",
   "metadata": {},
   "outputs": [
    {
     "name": "stdout",
     "output_type": "stream",
     "text": [
      "Passenger ID                    object\n",
      "First Name                      object\n",
      "Last Name                       object\n",
      "Gender                          object\n",
      "Age                              int64\n",
      "Nationality                     object\n",
      "Airport Name                    object\n",
      "Airport Country Code            object\n",
      "Country Name                    object\n",
      "Airport Continent               object\n",
      "Continents                      object\n",
      "Departure Date          datetime64[ns]\n",
      "Arrival Airport                 object\n",
      "Pilot Name                      object\n",
      "Flight Status                   object\n",
      "dtype: object\n"
     ]
    }
   ],
   "source": [
    "data['Departure Date'] = pd.to_datetime(data['Departure Date'], format='%m/%d/%Y')\n",
    "data['Passenger ID'] = data['Passenger ID'].astype(str)\n",
    "column_types = data.dtypes\n",
    "print(column_types)"
   ]
  },
  {
   "cell_type": "markdown",
   "id": "a78a5fa5",
   "metadata": {},
   "source": [
    "#### For each column with numeric data type, how are the values distributed?"
   ]
  },
  {
   "cell_type": "markdown",
   "id": "94f72477",
   "metadata": {},
   "source": [
    "##### What is the percentage of missing values?"
   ]
  },
  {
   "cell_type": "markdown",
   "id": "72edf67f",
   "metadata": {},
   "source": [
    "Ở cột `Age` và `Departure Date`, nhóm em xem tỉ lệ phần trăm dữ liệu bị thiếu là bao nhiêu"
   ]
  },
  {
   "cell_type": "code",
   "execution_count": 17,
   "id": "90917946",
   "metadata": {},
   "outputs": [
    {
     "name": "stdout",
     "output_type": "stream",
     "text": [
      "Percentage of missing values: \n",
      "Age               0.0\n",
      "Departure Date    0.0\n",
      "dtype: float64\n"
     ]
    }
   ],
   "source": [
    "numDate_col_info_df =data.select_dtypes(exclude='object')\n",
    "missing_percentage = (numDate_col_info_df.isnull().mean()) * 100\n",
    "print('Percentage of missing values: ')\n",
    "print(missing_percentage)"
   ]
  },
  {
   "cell_type": "markdown",
   "id": "2514b1e4",
   "metadata": {},
   "source": [
    "Như vậy ở cả 2 cột đều đủ dữ liệu"
   ]
  },
  {
   "cell_type": "markdown",
   "id": "71601c20",
   "metadata": {},
   "source": [
    "##### Vì dữ liệu chỉ có cột `Age` là có kiểu dữ liệu là số nên nhóm em sẽ tính **min, lower quartile, median, upper quartile, max** trên cột `Age`"
   ]
  },
  {
   "cell_type": "code",
   "execution_count": 11,
   "id": "1550528f",
   "metadata": {},
   "outputs": [
    {
     "name": "stdout",
     "output_type": "stream",
     "text": [
      "Min: 1\n",
      "Max: 90\n",
      "Median: 46.0\n",
      "Lower quartile: 23.0\n",
      "Upper quartile: 68.0\n"
     ]
    }
   ],
   "source": [
    "min_value = data['Age'].min()\n",
    "max_value = data['Age'].max()\n",
    "median_value = data['Age'].median()\n",
    "lower_value = data['Age'].quantile(0.25)\n",
    "upper_quartile_value = data['Age'].quantile(0.75)\n",
    "\n",
    "print(f\"Min: {min_value}\")\n",
    "print(f\"Max: {max_value}\")\n",
    "print(f\"Median: {median_value}\")\n",
    "print(f\"Lower quartile: {lower_value}\")\n",
    "print(f\"Upper quartile: {upper_quartile_value}\")"
   ]
  },
  {
   "cell_type": "markdown",
   "id": "04ff15c2",
   "metadata": {},
   "source": [
    "##### Min, Max trên cột `Departure Date`"
   ]
  },
  {
   "cell_type": "code",
   "execution_count": 16,
   "id": "db6a620d",
   "metadata": {},
   "outputs": [
    {
     "name": "stdout",
     "output_type": "stream",
     "text": [
      "Min: 2022-01-01 00:00:00\n",
      "Max: 2022-12-30 00:00:00\n"
     ]
    }
   ],
   "source": [
    "min_value = data['Departure Date'].min()\n",
    "max_value = data['Departure Date'].max()\n",
    "\n",
    "print(f\"Min: {min_value}\")\n",
    "print(f\"Max: {max_value}\")\n"
   ]
  },
  {
   "cell_type": "markdown",
   "id": "a02a890a",
   "metadata": {},
   "source": [
    "#### For each column with a non-numeric data type, how are the values distributed?"
   ]
  },
  {
   "cell_type": "code",
   "execution_count": 12,
   "id": "e239b7dc",
   "metadata": {},
   "outputs": [],
   "source": [
    "nonNum_col_info_df = data.select_dtypes(include='object')"
   ]
  },
  {
   "cell_type": "markdown",
   "id": "11c158d9",
   "metadata": {},
   "source": [
    "##### What is the percentage of missing values?"
   ]
  },
  {
   "cell_type": "code",
   "execution_count": 13,
   "id": "4fc31bad",
   "metadata": {},
   "outputs": [
    {
     "name": "stdout",
     "output_type": "stream",
     "text": [
      "Percentage of missing values: \n",
      "Passenger ID            0.0\n",
      "First Name              0.0\n",
      "Last Name               0.0\n",
      "Gender                  0.0\n",
      "Nationality             0.0\n",
      "Airport Name            0.0\n",
      "Airport Country Code    0.0\n",
      "Country Name            0.0\n",
      "Airport Continent       0.0\n",
      "Continents              0.0\n",
      "Arrival Airport         0.0\n",
      "Pilot Name              0.0\n",
      "Flight Status           0.0\n",
      "dtype: float64\n"
     ]
    }
   ],
   "source": [
    "missing_percentage_nonNum = (nonNum_col_info_df.isnull().mean()) * 100\n",
    "print('Percentage of missing values: ')\n",
    "print(missing_percentage_nonNum)"
   ]
  },
  {
   "cell_type": "markdown",
   "id": "055df609",
   "metadata": {},
   "source": [
    "Như vậy toàn bộ các cột đều không bị thiếu dữ liệu"
   ]
  },
  {
   "cell_type": "markdown",
   "id": "a53da16f",
   "metadata": {},
   "source": [
    "##### How many different values? "
   ]
  },
  {
   "cell_type": "code",
   "execution_count": 14,
   "id": "bf13aed3",
   "metadata": {},
   "outputs": [
    {
     "name": "stdout",
     "output_type": "stream",
     "text": [
      "Number of distinct values:\n",
      "Passenger ID            59871\n",
      "First Name               8437\n",
      "Last Name               41658\n",
      "Gender                      2\n",
      "Nationality               240\n",
      "Airport Name             9062\n",
      "Airport Country Code      235\n",
      "Country Name              235\n",
      "Airport Continent           6\n",
      "Continents                  6\n",
      "Arrival Airport          9024\n",
      "Pilot Name              98610\n",
      "Flight Status               3\n",
      "dtype: int64\n"
     ]
    }
   ],
   "source": [
    "nonNum_col_unique_counts = nonNum_col_info_df.nunique()\n",
    "\n",
    "# Hiển thị kết quả\n",
    "print(\"Number of distinct values:\")\n",
    "print(nonNum_col_unique_counts)"
   ]
  },
  {
   "cell_type": "markdown",
   "id": "f67bd8ba",
   "metadata": {},
   "source": [
    "### **3. Asking meaningful questions**"
   ]
  },
  {
   "cell_type": "markdown",
   "id": "3052463c",
   "metadata": {},
   "source": [
    "#### Mức độ phân bố tuổi của hành khách là như thế nào?"
   ]
  },
  {
   "cell_type": "markdown",
   "id": "dfb32c1f",
   "metadata": {},
   "source": [
    "#### Tỷ lệ on time, delayed, cancelled so với tổng thể ở từng quốc gia, châu lục?"
   ]
  },
  {
   "cell_type": "markdown",
   "id": "e346c565",
   "metadata": {},
   "source": [
    "#### Quốc gia, châu lục nào có số lượng hành khách nhiều nhất?"
   ]
  },
  {
   "cell_type": "markdown",
   "id": "6dc866c9",
   "metadata": {},
   "source": [
    "#### Thời gian trung bình mà các chuyến bay đã diễn ra?"
   ]
  },
  {
   "cell_type": "markdown",
   "id": "b0751a51",
   "metadata": {},
   "source": [
    "### **4. Preprocessing + analyzing data to answer each question**"
   ]
  }
 ],
 "metadata": {
  "kernelspec": {
   "display_name": "Python 3 (ipykernel)",
   "language": "python",
   "name": "python3"
  },
  "language_info": {
   "codemirror_mode": {
    "name": "ipython",
    "version": 3
   },
   "file_extension": ".py",
   "mimetype": "text/x-python",
   "name": "python",
   "nbconvert_exporter": "python",
   "pygments_lexer": "ipython3",
   "version": "3.9.18"
  }
 },
 "nbformat": 4,
 "nbformat_minor": 5
}
