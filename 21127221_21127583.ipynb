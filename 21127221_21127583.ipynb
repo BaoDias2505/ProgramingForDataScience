{
 "cells": [
  {
   "cell_type": "markdown",
   "id": "e020137e",
   "metadata": {},
   "source": [
    "# **Final Project - Lập trình cho Khoa học Dữ liệu**"
   ]
  },
  {
   "cell_type": "markdown",
   "id": "31b95733-cf9f-419d-94ca-44427f9e4257",
   "metadata": {},
   "source": [
    "### **Thông tin nhóm**"
   ]
  },
  {
   "cell_type": "markdown",
   "id": "4ada61c2",
   "metadata": {},
   "source": [
    "##### Thành viên 1:\n",
    "* **Họ và tên:** Võ Duy Anh\n",
    "* **MSSV:** 21127221"
   ]
  },
  {
   "cell_type": "markdown",
   "id": "8d159cd4",
   "metadata": {},
   "source": [
    "##### Thành viên 2:\n",
    "* **Họ và tên:** Nguyễn Mậu Gia Bảo\n",
    "* **MSSV:** 21127583"
   ]
  },
  {
   "cell_type": "markdown",
   "id": "15657209",
   "metadata": {},
   "source": [
    "### **Thông tin đồ án**"
   ]
  },
  {
   "cell_type": "markdown",
   "id": "2f5b4a8a",
   "metadata": {},
   "source": [
    "#### **Nội dung**\n",
    "1. Collecting data\n",
    "2. Exploring data\n",
    "3. Asking meaningful questions\n",
    "4. Preprocessing + analyzing data to answer each question\n",
    "5. Reflection\n",
    "6. References"
   ]
  },
  {
   "cell_type": "markdown",
   "id": "6a82adc8",
   "metadata": {},
   "source": [
    "#### **Thư viện hỗ trợ**"
   ]
  },
  {
   "cell_type": "code",
   "execution_count": 1,
   "id": "9033d56f",
   "metadata": {},
   "outputs": [],
   "source": [
    "import pandas as pd\n",
    "import seaborn as sns\n",
    "import matplotlib.pyplot as plt"
   ]
  },
  {
   "cell_type": "markdown",
   "id": "37c78354",
   "metadata": {},
   "source": [
    "#### **1. Collecting data**"
   ]
  },
  {
   "cell_type": "markdown",
   "id": "2eef550b",
   "metadata": {},
   "source": [
    "##### What subject is your data about? What is the source of your data?"
   ]
  },
  {
   "cell_type": "markdown",
   "id": "b977bc75",
   "metadata": {},
   "source": []
  },
  {
   "cell_type": "markdown",
   "id": "b5883b6e",
   "metadata": {},
   "source": [
    "##### Do authors of this data allow you to use like this? You can check the data license"
   ]
  },
  {
   "cell_type": "markdown",
   "id": "723f968b",
   "metadata": {},
   "source": []
  },
  {
   "cell_type": "markdown",
   "id": "a86e304a",
   "metadata": {},
   "source": [
    "##### How did authors collect data?"
   ]
  },
  {
   "cell_type": "markdown",
   "id": "5dd21f5d",
   "metadata": {},
   "source": []
  },
  {
   "cell_type": "markdown",
   "id": "4afe7d19",
   "metadata": {},
   "source": [
    "#### **2.Exploring data**"
   ]
  },
  {
   "cell_type": "code",
   "execution_count": 2,
   "id": "e60ee633",
   "metadata": {},
   "outputs": [
    {
     "data": {
      "text/html": [
       "<div>\n",
       "<style scoped>\n",
       "    .dataframe tbody tr th:only-of-type {\n",
       "        vertical-align: middle;\n",
       "    }\n",
       "\n",
       "    .dataframe tbody tr th {\n",
       "        vertical-align: top;\n",
       "    }\n",
       "\n",
       "    .dataframe thead th {\n",
       "        text-align: right;\n",
       "    }\n",
       "</style>\n",
       "<table border=\"1\" class=\"dataframe\">\n",
       "  <thead>\n",
       "    <tr style=\"text-align: right;\">\n",
       "      <th></th>\n",
       "      <th>Passenger ID</th>\n",
       "      <th>First Name</th>\n",
       "      <th>Last Name</th>\n",
       "      <th>Gender</th>\n",
       "      <th>Age</th>\n",
       "      <th>Nationality</th>\n",
       "      <th>Airport Name</th>\n",
       "      <th>Airport Country Code</th>\n",
       "      <th>Country Name</th>\n",
       "      <th>Airport Continent</th>\n",
       "      <th>Continents</th>\n",
       "      <th>Departure Date</th>\n",
       "      <th>Arrival Airport</th>\n",
       "      <th>Pilot Name</th>\n",
       "      <th>Flight Status</th>\n",
       "    </tr>\n",
       "  </thead>\n",
       "  <tbody>\n",
       "    <tr>\n",
       "      <th>0</th>\n",
       "      <td>10856</td>\n",
       "      <td>Edithe</td>\n",
       "      <td>Leggis</td>\n",
       "      <td>Female</td>\n",
       "      <td>62</td>\n",
       "      <td>Japan</td>\n",
       "      <td>Coldfoot Airport</td>\n",
       "      <td>US</td>\n",
       "      <td>United States</td>\n",
       "      <td>NAM</td>\n",
       "      <td>North America</td>\n",
       "      <td>6/28/2022</td>\n",
       "      <td>CXF</td>\n",
       "      <td>Edithe Leggis</td>\n",
       "      <td>On Time</td>\n",
       "    </tr>\n",
       "    <tr>\n",
       "      <th>1</th>\n",
       "      <td>43872</td>\n",
       "      <td>Elwood</td>\n",
       "      <td>Catt</td>\n",
       "      <td>Male</td>\n",
       "      <td>62</td>\n",
       "      <td>Nicaragua</td>\n",
       "      <td>Kugluktuk Airport</td>\n",
       "      <td>CA</td>\n",
       "      <td>Canada</td>\n",
       "      <td>NAM</td>\n",
       "      <td>North America</td>\n",
       "      <td>12/26/2022</td>\n",
       "      <td>YCO</td>\n",
       "      <td>Elwood Catt</td>\n",
       "      <td>On Time</td>\n",
       "    </tr>\n",
       "    <tr>\n",
       "      <th>2</th>\n",
       "      <td>42633</td>\n",
       "      <td>Darby</td>\n",
       "      <td>Felgate</td>\n",
       "      <td>Male</td>\n",
       "      <td>67</td>\n",
       "      <td>Russia</td>\n",
       "      <td>Grenoble-Isère Airport</td>\n",
       "      <td>FR</td>\n",
       "      <td>France</td>\n",
       "      <td>EU</td>\n",
       "      <td>Europe</td>\n",
       "      <td>1/18/2022</td>\n",
       "      <td>GNB</td>\n",
       "      <td>Darby Felgate</td>\n",
       "      <td>On Time</td>\n",
       "    </tr>\n",
       "    <tr>\n",
       "      <th>3</th>\n",
       "      <td>78493</td>\n",
       "      <td>Dominica</td>\n",
       "      <td>Pyle</td>\n",
       "      <td>Female</td>\n",
       "      <td>71</td>\n",
       "      <td>China</td>\n",
       "      <td>Ottawa / Gatineau Airport</td>\n",
       "      <td>CA</td>\n",
       "      <td>Canada</td>\n",
       "      <td>NAM</td>\n",
       "      <td>North America</td>\n",
       "      <td>9/16/2022</td>\n",
       "      <td>YND</td>\n",
       "      <td>Dominica Pyle</td>\n",
       "      <td>Delayed</td>\n",
       "    </tr>\n",
       "    <tr>\n",
       "      <th>4</th>\n",
       "      <td>82072</td>\n",
       "      <td>Bay</td>\n",
       "      <td>Pencost</td>\n",
       "      <td>Male</td>\n",
       "      <td>21</td>\n",
       "      <td>China</td>\n",
       "      <td>Gillespie Field</td>\n",
       "      <td>US</td>\n",
       "      <td>United States</td>\n",
       "      <td>NAM</td>\n",
       "      <td>North America</td>\n",
       "      <td>2/25/2022</td>\n",
       "      <td>SEE</td>\n",
       "      <td>Bay Pencost</td>\n",
       "      <td>On Time</td>\n",
       "    </tr>\n",
       "    <tr>\n",
       "      <th>...</th>\n",
       "      <td>...</td>\n",
       "      <td>...</td>\n",
       "      <td>...</td>\n",
       "      <td>...</td>\n",
       "      <td>...</td>\n",
       "      <td>...</td>\n",
       "      <td>...</td>\n",
       "      <td>...</td>\n",
       "      <td>...</td>\n",
       "      <td>...</td>\n",
       "      <td>...</td>\n",
       "      <td>...</td>\n",
       "      <td>...</td>\n",
       "      <td>...</td>\n",
       "      <td>...</td>\n",
       "    </tr>\n",
       "    <tr>\n",
       "      <th>98614</th>\n",
       "      <td>58454</td>\n",
       "      <td>Gareth</td>\n",
       "      <td>Mugford</td>\n",
       "      <td>Male</td>\n",
       "      <td>85</td>\n",
       "      <td>China</td>\n",
       "      <td>Hasvik Airport</td>\n",
       "      <td>NO</td>\n",
       "      <td>Norway</td>\n",
       "      <td>EU</td>\n",
       "      <td>Europe</td>\n",
       "      <td>12/11/2022</td>\n",
       "      <td>HAA</td>\n",
       "      <td>Gareth Mugford</td>\n",
       "      <td>Cancelled</td>\n",
       "    </tr>\n",
       "    <tr>\n",
       "      <th>98615</th>\n",
       "      <td>22028</td>\n",
       "      <td>Kasey</td>\n",
       "      <td>Benedict</td>\n",
       "      <td>Female</td>\n",
       "      <td>19</td>\n",
       "      <td>Russia</td>\n",
       "      <td>Ampampamena Airport</td>\n",
       "      <td>MG</td>\n",
       "      <td>Madagascar</td>\n",
       "      <td>AF</td>\n",
       "      <td>Africa</td>\n",
       "      <td>10/30/2022</td>\n",
       "      <td>IVA</td>\n",
       "      <td>Kasey Benedict</td>\n",
       "      <td>Cancelled</td>\n",
       "    </tr>\n",
       "    <tr>\n",
       "      <th>98616</th>\n",
       "      <td>61732</td>\n",
       "      <td>Darrin</td>\n",
       "      <td>Lucken</td>\n",
       "      <td>Male</td>\n",
       "      <td>65</td>\n",
       "      <td>Indonesia</td>\n",
       "      <td>Albacete-Los Llanos Airport</td>\n",
       "      <td>ES</td>\n",
       "      <td>Spain</td>\n",
       "      <td>EU</td>\n",
       "      <td>Europe</td>\n",
       "      <td>9/10/2022</td>\n",
       "      <td>ABC</td>\n",
       "      <td>Darrin Lucken</td>\n",
       "      <td>On Time</td>\n",
       "    </tr>\n",
       "    <tr>\n",
       "      <th>98617</th>\n",
       "      <td>19819</td>\n",
       "      <td>Gayle</td>\n",
       "      <td>Lievesley</td>\n",
       "      <td>Female</td>\n",
       "      <td>34</td>\n",
       "      <td>China</td>\n",
       "      <td>Gagnoa Airport</td>\n",
       "      <td>CI</td>\n",
       "      <td>Côte d'Ivoire</td>\n",
       "      <td>AF</td>\n",
       "      <td>Africa</td>\n",
       "      <td>10/26/2022</td>\n",
       "      <td>GGN</td>\n",
       "      <td>Gayle Lievesley</td>\n",
       "      <td>Cancelled</td>\n",
       "    </tr>\n",
       "    <tr>\n",
       "      <th>98618</th>\n",
       "      <td>14485</td>\n",
       "      <td>Wilhelmine</td>\n",
       "      <td>Touret</td>\n",
       "      <td>Female</td>\n",
       "      <td>10</td>\n",
       "      <td>Poland</td>\n",
       "      <td>Yoshkar-Ola Airport</td>\n",
       "      <td>RU</td>\n",
       "      <td>Russian Federation</td>\n",
       "      <td>EU</td>\n",
       "      <td>Europe</td>\n",
       "      <td>4/16/2022</td>\n",
       "      <td>JOK</td>\n",
       "      <td>Wilhelmine Touret</td>\n",
       "      <td>Delayed</td>\n",
       "    </tr>\n",
       "  </tbody>\n",
       "</table>\n",
       "<p>98619 rows × 15 columns</p>\n",
       "</div>"
      ],
      "text/plain": [
       "       Passenger ID  First Name  Last Name  Gender  Age Nationality  \\\n",
       "0             10856      Edithe     Leggis  Female   62       Japan   \n",
       "1             43872      Elwood       Catt    Male   62   Nicaragua   \n",
       "2             42633       Darby    Felgate    Male   67      Russia   \n",
       "3             78493    Dominica       Pyle  Female   71       China   \n",
       "4             82072         Bay    Pencost    Male   21       China   \n",
       "...             ...         ...        ...     ...  ...         ...   \n",
       "98614         58454      Gareth    Mugford    Male   85       China   \n",
       "98615         22028       Kasey   Benedict  Female   19      Russia   \n",
       "98616         61732      Darrin     Lucken    Male   65   Indonesia   \n",
       "98617         19819       Gayle  Lievesley  Female   34       China   \n",
       "98618         14485  Wilhelmine     Touret  Female   10      Poland   \n",
       "\n",
       "                      Airport Name Airport Country Code        Country Name  \\\n",
       "0                 Coldfoot Airport                   US       United States   \n",
       "1                Kugluktuk Airport                   CA              Canada   \n",
       "2           Grenoble-Isère Airport                   FR              France   \n",
       "3        Ottawa / Gatineau Airport                   CA              Canada   \n",
       "4                  Gillespie Field                   US       United States   \n",
       "...                            ...                  ...                 ...   \n",
       "98614               Hasvik Airport                   NO              Norway   \n",
       "98615          Ampampamena Airport                   MG          Madagascar   \n",
       "98616  Albacete-Los Llanos Airport                   ES               Spain   \n",
       "98617               Gagnoa Airport                   CI       Côte d'Ivoire   \n",
       "98618          Yoshkar-Ola Airport                   RU  Russian Federation   \n",
       "\n",
       "      Airport Continent     Continents Departure Date Arrival Airport  \\\n",
       "0                   NAM  North America      6/28/2022             CXF   \n",
       "1                   NAM  North America     12/26/2022             YCO   \n",
       "2                    EU         Europe      1/18/2022             GNB   \n",
       "3                   NAM  North America      9/16/2022             YND   \n",
       "4                   NAM  North America      2/25/2022             SEE   \n",
       "...                 ...            ...            ...             ...   \n",
       "98614                EU         Europe     12/11/2022             HAA   \n",
       "98615                AF         Africa     10/30/2022             IVA   \n",
       "98616                EU         Europe      9/10/2022             ABC   \n",
       "98617                AF         Africa     10/26/2022             GGN   \n",
       "98618                EU         Europe      4/16/2022             JOK   \n",
       "\n",
       "              Pilot Name Flight Status  \n",
       "0          Edithe Leggis       On Time  \n",
       "1            Elwood Catt       On Time  \n",
       "2          Darby Felgate       On Time  \n",
       "3          Dominica Pyle       Delayed  \n",
       "4            Bay Pencost       On Time  \n",
       "...                  ...           ...  \n",
       "98614     Gareth Mugford     Cancelled  \n",
       "98615     Kasey Benedict     Cancelled  \n",
       "98616      Darrin Lucken       On Time  \n",
       "98617    Gayle Lievesley     Cancelled  \n",
       "98618  Wilhelmine Touret       Delayed  \n",
       "\n",
       "[98619 rows x 15 columns]"
      ]
     },
     "execution_count": 2,
     "metadata": {},
     "output_type": "execute_result"
    }
   ],
   "source": [
    "data = pd.read_csv(\"Airline Dataset.csv\")\n",
    "data"
   ]
  },
  {
   "cell_type": "markdown",
   "id": "8f81d3a4",
   "metadata": {},
   "source": [
    "##### How many rows and how many columns?"
   ]
  },
  {
   "cell_type": "code",
   "execution_count": 3,
   "id": "7957c1ad",
   "metadata": {},
   "outputs": [],
   "source": [
    "shape = data.shape"
   ]
  },
  {
   "cell_type": "code",
   "execution_count": 4,
   "id": "2a48da6e",
   "metadata": {},
   "outputs": [
    {
     "name": "stdout",
     "output_type": "stream",
     "text": [
      "Dữ liệu có 98619 dòng và 15 cột\n"
     ]
    }
   ],
   "source": [
    "row = data.shape[0]\n",
    "col = data.shape[1]\n",
    "print(f'Dữ liệu có {row} dòng và {col} cột')"
   ]
  },
  {
   "cell_type": "markdown",
   "id": "f326a098",
   "metadata": {},
   "source": [
    "##### What is the meaning of each row?"
   ]
  },
  {
   "cell_type": "markdown",
   "id": "17a1f88d",
   "metadata": {},
   "source": [
    "Mỗi dòng là thông tin của 1 hành khách và chuyến bay cụ thể"
   ]
  },
  {
   "cell_type": "markdown",
   "id": "1afa11db",
   "metadata": {},
   "source": [
    "##### Are there duplicated rows?"
   ]
  },
  {
   "cell_type": "code",
   "execution_count": 5,
   "id": "fc99d94a",
   "metadata": {},
   "outputs": [
    {
     "name": "stdout",
     "output_type": "stream",
     "text": [
      "Dữ liệu không có các dòng bị lặp\n"
     ]
    }
   ],
   "source": [
    "duplicated = data.duplicated().sum() > 0\n",
    "if duplicated:\n",
    "    print(\"Dữ liệu có các dòng bị lặp\")\n",
    "else:\n",
    "    print(\"Dữ liệu không có các dòng bị lặp\")"
   ]
  },
  {
   "cell_type": "markdown",
   "id": "624993e3",
   "metadata": {},
   "source": [
    "##### What is the meaning of each column?"
   ]
  },
  {
   "cell_type": "markdown",
   "id": "193bf28d",
   "metadata": {},
   "source": [
    "|Cột|Ý nghĩa|\n",
    "|---|---|\n",
    "|**Passenger ID**|Mã định danh duy nhất cho mỗi hành khách| \n",
    "|**First Name**|Tên của hành khách|\n",
    "|**Last Name**|Họ của hành khách|\n",
    "|**Gender**|Giới tính của hành khách|\n",
    "|**Age**|Tuổi của hành khách|\n",
    "|**Nationality**|Quốc tịch của hành khách|\n",
    "|**Airport Name**|Tên sân bay nơi hành khách lên máy bay|\n",
    "|**Airport Country Code**|Mã quốc gia của sân bay xuất phát|\n",
    "|**Country Name**|Tên quốc gia của sân bay xuất phát|\n",
    "|**Airport Continent**|Châu lục của sân bay xuất phát|\n",
    "|**Continents**|Các châu lục liên quan đến đường bay|\n",
    "|**Departure Date**|Ngày chuyến bay khởi hành|\n",
    "|**Arrival Airport**|Sân bay đến của chuyến bay|\n",
    "|**Pilot Name**|Tên phi công điều hành chuyến bay|\n",
    "|**Flight Status**|Tình trạng hiện tại của chuyến bay (ví dụ: đúng giờ, bị hoãn, bị hủy)|"
   ]
  },
  {
   "cell_type": "markdown",
   "id": "8ce47a54",
   "metadata": {},
   "source": [
    "##### What is the current data type of each column? Are there columns having inappropriate data types?"
   ]
  },
  {
   "cell_type": "code",
   "execution_count": 6,
   "id": "78cfbbcc",
   "metadata": {},
   "outputs": [
    {
     "name": "stdout",
     "output_type": "stream",
     "text": [
      "Passenger ID             int64\n",
      "First Name              object\n",
      "Last Name               object\n",
      "Gender                  object\n",
      "Age                      int64\n",
      "Nationality             object\n",
      "Airport Name            object\n",
      "Airport Country Code    object\n",
      "Country Name            object\n",
      "Airport Continent       object\n",
      "Continents              object\n",
      "Departure Date          object\n",
      "Arrival Airport         object\n",
      "Pilot Name              object\n",
      "Flight Status           object\n",
      "dtype: object\n"
     ]
    }
   ],
   "source": [
    "column_types = data.dtypes\n",
    "print(column_types)"
   ]
  },
  {
   "cell_type": "markdown",
   "id": "4e4f9b83",
   "metadata": {},
   "source": [
    "Nhìn chung, phần lớn các cột đều đúng kiểu dữ liệu. Riêng chỉ có cột Departure Date cần đưa về kiểu dữ liệu datetime"
   ]
  },
  {
   "cell_type": "code",
   "execution_count": 7,
   "id": "c720096f",
   "metadata": {},
   "outputs": [
    {
     "name": "stdout",
     "output_type": "stream",
     "text": [
      "Passenger ID                     int64\n",
      "First Name                      object\n",
      "Last Name                       object\n",
      "Gender                          object\n",
      "Age                              int64\n",
      "Nationality                     object\n",
      "Airport Name                    object\n",
      "Airport Country Code            object\n",
      "Country Name                    object\n",
      "Airport Continent               object\n",
      "Continents                      object\n",
      "Departure Date          datetime64[ns]\n",
      "Arrival Airport                 object\n",
      "Pilot Name                      object\n",
      "Flight Status                   object\n",
      "dtype: object\n"
     ]
    }
   ],
   "source": [
    "data['Departure Date'] = pd.to_datetime(data['Departure Date'], format='%m/%d/%Y')\n",
    "column_types = data.dtypes\n",
    "print(column_types)"
   ]
  },
  {
   "cell_type": "markdown",
   "id": "a78a5fa5",
   "metadata": {},
   "source": [
    "##### With each numerical column, how are values distributed?"
   ]
  },
  {
   "cell_type": "code",
   "execution_count": null,
   "id": "778a56a0",
   "metadata": {},
   "outputs": [],
   "source": []
  },
  {
   "cell_type": "markdown",
   "id": "a02a890a",
   "metadata": {},
   "source": [
    "##### With each categorical column, how are values distributed?"
   ]
  },
  {
   "cell_type": "code",
   "execution_count": 14,
   "id": "31df3bbd",
   "metadata": {},
   "outputs": [
    {
     "data": {
      "text/html": [
       "<div>\n",
       "<style scoped>\n",
       "    .dataframe tbody tr th:only-of-type {\n",
       "        vertical-align: middle;\n",
       "    }\n",
       "\n",
       "    .dataframe tbody tr th {\n",
       "        vertical-align: top;\n",
       "    }\n",
       "\n",
       "    .dataframe thead th {\n",
       "        text-align: right;\n",
       "    }\n",
       "</style>\n",
       "<table border=\"1\" class=\"dataframe\">\n",
       "  <thead>\n",
       "    <tr style=\"text-align: right;\">\n",
       "      <th></th>\n",
       "      <th>First Name</th>\n",
       "      <th>Last Name</th>\n",
       "      <th>Gender</th>\n",
       "      <th>Nationality</th>\n",
       "      <th>Airport Name</th>\n",
       "      <th>Airport Country Code</th>\n",
       "      <th>Country Name</th>\n",
       "      <th>Airport Continent</th>\n",
       "      <th>Continents</th>\n",
       "      <th>Arrival Airport</th>\n",
       "      <th>Pilot Name</th>\n",
       "      <th>Flight Status</th>\n",
       "    </tr>\n",
       "  </thead>\n",
       "  <tbody>\n",
       "    <tr>\n",
       "      <th>missing_ratio</th>\n",
       "      <td>0.0</td>\n",
       "      <td>0.0</td>\n",
       "      <td>0.0</td>\n",
       "      <td>0.0</td>\n",
       "      <td>0.0</td>\n",
       "      <td>0.0</td>\n",
       "      <td>0.0</td>\n",
       "      <td>0.0</td>\n",
       "      <td>0.0</td>\n",
       "      <td>0.0</td>\n",
       "      <td>0.0</td>\n",
       "      <td>0.0</td>\n",
       "    </tr>\n",
       "    <tr>\n",
       "      <th>num_values</th>\n",
       "      <td>8438</td>\n",
       "      <td>41659</td>\n",
       "      <td>2</td>\n",
       "      <td>240</td>\n",
       "      <td>9062</td>\n",
       "      <td>235</td>\n",
       "      <td>235</td>\n",
       "      <td>6</td>\n",
       "      <td>6</td>\n",
       "      <td>9024</td>\n",
       "      <td>98612</td>\n",
       "      <td>3</td>\n",
       "    </tr>\n",
       "    <tr>\n",
       "      <th>value_ratios</th>\n",
       "      <td>{'Gale': 0.0, 'Brett': 0.0, 'Gerrie': 0.0, 'Co...</td>\n",
       "      <td>{'Dyball': 0.0, 'Capron': 0.0, 'Ducker': 0.0, ...</td>\n",
       "      <td>{'Male': 50.3, 'Female': 49.7}</td>\n",
       "      <td>{'China': 18.6, 'Indonesia': 10.7, 'Russia': 5...</td>\n",
       "      <td>{'San Pedro Airport': 0.0, 'Santa Maria Airpor...</td>\n",
       "      <td>{'US': 22.4, 'AU': 6.5, 'CA': 5.5, 'BR': 4.6, ...</td>\n",
       "      <td>{'United States': 22.4, 'Australia': 6.5, 'Can...</td>\n",
       "      <td>{'NAM': 32.5, 'AS': 18.9, 'OC': 14.1, 'EU': 12...</td>\n",
       "      <td>{'North America': 32.5, 'Asia': 18.9, 'Oceania...</td>\n",
       "      <td>{'0': 0.9, 'JNB': 0.0, 'PHM': 0.0, 'MPT': 0.0,...</td>\n",
       "      <td>{'L': 0.0, 'Brig Shuxsmith': 0.0, '': 0.0, 'Pe...</td>\n",
       "      <td>{'Cancelled': 33.4, 'On Time': 33.3, 'Delayed'...</td>\n",
       "    </tr>\n",
       "  </tbody>\n",
       "</table>\n",
       "</div>"
      ],
      "text/plain": [
       "                                                      First Name  \\\n",
       "missing_ratio                                                0.0   \n",
       "num_values                                                  8438   \n",
       "value_ratios   {'Gale': 0.0, 'Brett': 0.0, 'Gerrie': 0.0, 'Co...   \n",
       "\n",
       "                                                       Last Name  \\\n",
       "missing_ratio                                                0.0   \n",
       "num_values                                                 41659   \n",
       "value_ratios   {'Dyball': 0.0, 'Capron': 0.0, 'Ducker': 0.0, ...   \n",
       "\n",
       "                                       Gender  \\\n",
       "missing_ratio                             0.0   \n",
       "num_values                                  2   \n",
       "value_ratios   {'Male': 50.3, 'Female': 49.7}   \n",
       "\n",
       "                                                     Nationality  \\\n",
       "missing_ratio                                                0.0   \n",
       "num_values                                                   240   \n",
       "value_ratios   {'China': 18.6, 'Indonesia': 10.7, 'Russia': 5...   \n",
       "\n",
       "                                                    Airport Name  \\\n",
       "missing_ratio                                                0.0   \n",
       "num_values                                                  9062   \n",
       "value_ratios   {'San Pedro Airport': 0.0, 'Santa Maria Airpor...   \n",
       "\n",
       "                                            Airport Country Code  \\\n",
       "missing_ratio                                                0.0   \n",
       "num_values                                                   235   \n",
       "value_ratios   {'US': 22.4, 'AU': 6.5, 'CA': 5.5, 'BR': 4.6, ...   \n",
       "\n",
       "                                                    Country Name  \\\n",
       "missing_ratio                                                0.0   \n",
       "num_values                                                   235   \n",
       "value_ratios   {'United States': 22.4, 'Australia': 6.5, 'Can...   \n",
       "\n",
       "                                               Airport Continent  \\\n",
       "missing_ratio                                                0.0   \n",
       "num_values                                                     6   \n",
       "value_ratios   {'NAM': 32.5, 'AS': 18.9, 'OC': 14.1, 'EU': 12...   \n",
       "\n",
       "                                                      Continents  \\\n",
       "missing_ratio                                                0.0   \n",
       "num_values                                                     6   \n",
       "value_ratios   {'North America': 32.5, 'Asia': 18.9, 'Oceania...   \n",
       "\n",
       "                                                 Arrival Airport  \\\n",
       "missing_ratio                                                0.0   \n",
       "num_values                                                  9024   \n",
       "value_ratios   {'0': 0.9, 'JNB': 0.0, 'PHM': 0.0, 'MPT': 0.0,...   \n",
       "\n",
       "                                                      Pilot Name  \\\n",
       "missing_ratio                                                0.0   \n",
       "num_values                                                 98612   \n",
       "value_ratios   {'L': 0.0, 'Brig Shuxsmith': 0.0, '': 0.0, 'Pe...   \n",
       "\n",
       "                                                   Flight Status  \n",
       "missing_ratio                                                0.0  \n",
       "num_values                                                     3  \n",
       "value_ratios   {'Cancelled': 33.4, 'On Time': 33.3, 'Delayed'...  "
      ]
     },
     "execution_count": 14,
     "metadata": {},
     "output_type": "execute_result"
    }
   ],
   "source": [
    "cat_col_info_df = data.select_dtypes(include='object')\n",
    "\n",
    "def missing_ratio(s):\n",
    "    # raise NotImplementedError()\n",
    "    return (s.isna().mean() * 100).round(1)\n",
    "\n",
    "def num_values(s):\n",
    "    # raise NotImplementedError()\n",
    "    s = s.str.split(';')\n",
    "    s = s.explode()\n",
    "    return len(s.value_counts())\n",
    "\n",
    "def value_ratios(s):\n",
    "    # raise NotImplementedError()\n",
    "    s = s.str.split(';')\n",
    "    s = s.explode()\n",
    "    totalCount = (~s.isna()).sum()\n",
    "    return ((s.value_counts()/totalCount*100).round(1)).to_dict()\n",
    "\n",
    "cat_col_info_df = cat_col_info_df.agg([missing_ratio, num_values, value_ratios])\n",
    "cat_col_info_df"
   ]
  }
 ],
 "metadata": {
  "kernelspec": {
   "display_name": "Python 3 (ipykernel)",
   "language": "python",
   "name": "python3"
  },
  "language_info": {
   "codemirror_mode": {
    "name": "ipython",
    "version": 3
   },
   "file_extension": ".py",
   "mimetype": "text/x-python",
   "name": "python",
   "nbconvert_exporter": "python",
   "pygments_lexer": "ipython3",
   "version": "3.9.18"
  }
 },
 "nbformat": 4,
 "nbformat_minor": 5
}
