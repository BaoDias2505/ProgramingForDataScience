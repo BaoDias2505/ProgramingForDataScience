{
 "cells": [
  {
   "cell_type": "markdown",
   "id": "e020137e",
   "metadata": {},
   "source": [
    "# **Final Project - Lập trình cho Khoa học Dữ liệu**"
   ]
  },
  {
   "cell_type": "markdown",
   "id": "31b95733-cf9f-419d-94ca-44427f9e4257",
   "metadata": {},
   "source": [
    "## **Thông tin nhóm**"
   ]
  },
  {
   "cell_type": "markdown",
   "id": "4ada61c2",
   "metadata": {},
   "source": [
    "#### Thành viên 1:\n",
    "* **Họ và tên:** Võ Duy Anh\n",
    "* **MSSV:** 21127221"
   ]
  },
  {
   "cell_type": "markdown",
   "id": "8d159cd4",
   "metadata": {},
   "source": [
    "#### Thành viên 2:\n",
    "* **Họ và tên:** Nguyễn Mậu Gia Bảo\n",
    "* **MSSV:** 21127583"
   ]
  },
  {
   "cell_type": "markdown",
   "id": "15657209",
   "metadata": {},
   "source": [
    "## **Thông tin đồ án**"
   ]
  },
  {
   "cell_type": "markdown",
   "id": "2f5b4a8a",
   "metadata": {},
   "source": [
    "### **Nội dung**\n",
    "1. Collecting data\n",
    "2. Exploring data\n",
    "3. Asking meaningful questions\n",
    "4. Preprocessing + analyzing data to answer each question\n",
    "5. Reflection\n",
    "6. References"
   ]
  },
  {
   "cell_type": "markdown",
   "id": "6a82adc8",
   "metadata": {},
   "source": [
    "### **Thư viện hỗ trợ**"
   ]
  },
  {
   "cell_type": "code",
   "execution_count": 2,
   "id": "9033d56f",
   "metadata": {},
   "outputs": [],
   "source": [
    "import pandas as pd\n",
    "import seaborn as sns\n",
    "import matplotlib.pyplot as plt\n",
    "import datetime\n",
    "import plotly.express as px\n",
    "import numpy as np"
   ]
  },
  {
   "cell_type": "markdown",
   "id": "37c78354",
   "metadata": {},
   "source": [
    "### **1. Collecting data**"
   ]
  },
  {
   "cell_type": "markdown",
   "id": "2eef550b",
   "metadata": {},
   "source": [
    "#### What subject is your data about? What is the source of your data?"
   ]
  },
  {
   "cell_type": "markdown",
   "id": "b977bc75",
   "metadata": {},
   "source": []
  },
  {
   "cell_type": "markdown",
   "id": "b5883b6e",
   "metadata": {},
   "source": [
    "#### Do authors of this data allow you to use like this? You can check the data license"
   ]
  },
  {
   "cell_type": "markdown",
   "id": "723f968b",
   "metadata": {},
   "source": []
  },
  {
   "cell_type": "markdown",
   "id": "a86e304a",
   "metadata": {},
   "source": [
    "#### How did authors collect data?"
   ]
  },
  {
   "cell_type": "markdown",
   "id": "5dd21f5d",
   "metadata": {},
   "source": []
  },
  {
   "cell_type": "markdown",
   "id": "4afe7d19",
   "metadata": {},
   "source": [
    "### **2.Exploring data**"
   ]
  },
  {
   "cell_type": "markdown",
   "id": "b272c35f",
   "metadata": {},
   "source": [
    "#### Read data from file"
   ]
  },
  {
   "cell_type": "code",
   "execution_count": 3,
   "id": "e60ee633",
   "metadata": {},
   "outputs": [
    {
     "data": {
      "text/html": [
       "<div>\n",
       "<style scoped>\n",
       "    .dataframe tbody tr th:only-of-type {\n",
       "        vertical-align: middle;\n",
       "    }\n",
       "\n",
       "    .dataframe tbody tr th {\n",
       "        vertical-align: top;\n",
       "    }\n",
       "\n",
       "    .dataframe thead th {\n",
       "        text-align: right;\n",
       "    }\n",
       "</style>\n",
       "<table border=\"1\" class=\"dataframe\">\n",
       "  <thead>\n",
       "    <tr style=\"text-align: right;\">\n",
       "      <th></th>\n",
       "      <th>Passenger ID</th>\n",
       "      <th>First Name</th>\n",
       "      <th>Last Name</th>\n",
       "      <th>Gender</th>\n",
       "      <th>Age</th>\n",
       "      <th>Nationality</th>\n",
       "      <th>Airport Name</th>\n",
       "      <th>Airport Country Code</th>\n",
       "      <th>Country Name</th>\n",
       "      <th>Airport Continent</th>\n",
       "      <th>Continents</th>\n",
       "      <th>Departure Date</th>\n",
       "      <th>Arrival Airport</th>\n",
       "      <th>Pilot Name</th>\n",
       "      <th>Flight Status</th>\n",
       "    </tr>\n",
       "  </thead>\n",
       "  <tbody>\n",
       "    <tr>\n",
       "      <th>0</th>\n",
       "      <td>10856</td>\n",
       "      <td>Edithe</td>\n",
       "      <td>Leggis</td>\n",
       "      <td>Female</td>\n",
       "      <td>62</td>\n",
       "      <td>Japan</td>\n",
       "      <td>Coldfoot Airport</td>\n",
       "      <td>US</td>\n",
       "      <td>United States</td>\n",
       "      <td>NAM</td>\n",
       "      <td>North America</td>\n",
       "      <td>6/28/2022</td>\n",
       "      <td>CXF</td>\n",
       "      <td>Edithe Leggis</td>\n",
       "      <td>On Time</td>\n",
       "    </tr>\n",
       "    <tr>\n",
       "      <th>1</th>\n",
       "      <td>43872</td>\n",
       "      <td>Elwood</td>\n",
       "      <td>Catt</td>\n",
       "      <td>Male</td>\n",
       "      <td>62</td>\n",
       "      <td>Nicaragua</td>\n",
       "      <td>Kugluktuk Airport</td>\n",
       "      <td>CA</td>\n",
       "      <td>Canada</td>\n",
       "      <td>NAM</td>\n",
       "      <td>North America</td>\n",
       "      <td>12/26/2022</td>\n",
       "      <td>YCO</td>\n",
       "      <td>Elwood Catt</td>\n",
       "      <td>On Time</td>\n",
       "    </tr>\n",
       "    <tr>\n",
       "      <th>2</th>\n",
       "      <td>42633</td>\n",
       "      <td>Darby</td>\n",
       "      <td>Felgate</td>\n",
       "      <td>Male</td>\n",
       "      <td>67</td>\n",
       "      <td>Russia</td>\n",
       "      <td>Grenoble-Isère Airport</td>\n",
       "      <td>FR</td>\n",
       "      <td>France</td>\n",
       "      <td>EU</td>\n",
       "      <td>Europe</td>\n",
       "      <td>1/18/2022</td>\n",
       "      <td>GNB</td>\n",
       "      <td>Darby Felgate</td>\n",
       "      <td>On Time</td>\n",
       "    </tr>\n",
       "    <tr>\n",
       "      <th>3</th>\n",
       "      <td>78493</td>\n",
       "      <td>Dominica</td>\n",
       "      <td>Pyle</td>\n",
       "      <td>Female</td>\n",
       "      <td>71</td>\n",
       "      <td>China</td>\n",
       "      <td>Ottawa / Gatineau Airport</td>\n",
       "      <td>CA</td>\n",
       "      <td>Canada</td>\n",
       "      <td>NAM</td>\n",
       "      <td>North America</td>\n",
       "      <td>9/16/2022</td>\n",
       "      <td>YND</td>\n",
       "      <td>Dominica Pyle</td>\n",
       "      <td>Delayed</td>\n",
       "    </tr>\n",
       "    <tr>\n",
       "      <th>4</th>\n",
       "      <td>82072</td>\n",
       "      <td>Bay</td>\n",
       "      <td>Pencost</td>\n",
       "      <td>Male</td>\n",
       "      <td>21</td>\n",
       "      <td>China</td>\n",
       "      <td>Gillespie Field</td>\n",
       "      <td>US</td>\n",
       "      <td>United States</td>\n",
       "      <td>NAM</td>\n",
       "      <td>North America</td>\n",
       "      <td>2/25/2022</td>\n",
       "      <td>SEE</td>\n",
       "      <td>Bay Pencost</td>\n",
       "      <td>On Time</td>\n",
       "    </tr>\n",
       "  </tbody>\n",
       "</table>\n",
       "</div>"
      ],
      "text/plain": [
       "   Passenger ID First Name Last Name  Gender  Age Nationality  \\\n",
       "0         10856     Edithe    Leggis  Female   62       Japan   \n",
       "1         43872     Elwood      Catt    Male   62   Nicaragua   \n",
       "2         42633      Darby   Felgate    Male   67      Russia   \n",
       "3         78493   Dominica      Pyle  Female   71       China   \n",
       "4         82072        Bay   Pencost    Male   21       China   \n",
       "\n",
       "                Airport Name Airport Country Code   Country Name  \\\n",
       "0           Coldfoot Airport                   US  United States   \n",
       "1          Kugluktuk Airport                   CA         Canada   \n",
       "2     Grenoble-Isère Airport                   FR         France   \n",
       "3  Ottawa / Gatineau Airport                   CA         Canada   \n",
       "4            Gillespie Field                   US  United States   \n",
       "\n",
       "  Airport Continent     Continents Departure Date Arrival Airport  \\\n",
       "0               NAM  North America      6/28/2022             CXF   \n",
       "1               NAM  North America     12/26/2022             YCO   \n",
       "2                EU         Europe      1/18/2022             GNB   \n",
       "3               NAM  North America      9/16/2022             YND   \n",
       "4               NAM  North America      2/25/2022             SEE   \n",
       "\n",
       "      Pilot Name Flight Status  \n",
       "0  Edithe Leggis       On Time  \n",
       "1    Elwood Catt       On Time  \n",
       "2  Darby Felgate       On Time  \n",
       "3  Dominica Pyle       Delayed  \n",
       "4    Bay Pencost       On Time  "
      ]
     },
     "execution_count": 3,
     "metadata": {},
     "output_type": "execute_result"
    }
   ],
   "source": [
    "data = pd.read_csv(\"Airline Dataset.csv\")\n",
    "data.head()"
   ]
  },
  {
   "cell_type": "markdown",
   "id": "8f81d3a4",
   "metadata": {},
   "source": [
    "#### How many rows and how many columns does the data have?"
   ]
  },
  {
   "cell_type": "code",
   "execution_count": 4,
   "id": "7957c1ad",
   "metadata": {},
   "outputs": [
    {
     "name": "stdout",
     "output_type": "stream",
     "text": [
      "Data current shape: (98619, 15)\n"
     ]
    }
   ],
   "source": [
    "shape = data.shape\n",
    "print(f\"Data current shape: {shape}\")"
   ]
  },
  {
   "cell_type": "code",
   "execution_count": 5,
   "id": "2a48da6e",
   "metadata": {},
   "outputs": [
    {
     "name": "stdout",
     "output_type": "stream",
     "text": [
      "Data have 98619 rows and 15 columns\n"
     ]
    }
   ],
   "source": [
    "row,col = data.shape\n",
    "print(f'Data have {row} rows and {col} columns')"
   ]
  },
  {
   "cell_type": "markdown",
   "id": "f326a098",
   "metadata": {},
   "source": [
    "#### What is the meaning of each row?"
   ]
  },
  {
   "cell_type": "markdown",
   "id": "17a1f88d",
   "metadata": {},
   "source": [
    "Mỗi dòng là thông tin của 1 hành khách và chuyến bay cụ thể"
   ]
  },
  {
   "cell_type": "markdown",
   "id": "1afa11db",
   "metadata": {},
   "source": [
    "#### Does the data have duplicate rows?"
   ]
  },
  {
   "cell_type": "code",
   "execution_count": 6,
   "id": "fc99d94a",
   "metadata": {},
   "outputs": [],
   "source": [
    "index = data.index\n",
    "detectDupSeries = index.duplicated(keep='first')\n",
    "num_duplicated_rows = detectDupSeries.sum()"
   ]
  },
  {
   "cell_type": "code",
   "execution_count": 7,
   "id": "9927136b",
   "metadata": {},
   "outputs": [
    {
     "name": "stdout",
     "output_type": "stream",
     "text": [
      "Data have no duplicated line.!\n"
     ]
    }
   ],
   "source": [
    "# TEST\n",
    "if num_duplicated_rows == 0:\n",
    "    print(f\"Data have no duplicated line.!\")\n",
    "else:\n",
    "    if num_duplicated_rows > 1:\n",
    "        ext = \"lines\"\n",
    "    else:\n",
    "        ext = \"line\"\n",
    "    print(f\"Data have {num_duplicated_rows} duplicated \" + ext + \".\")"
   ]
  },
  {
   "cell_type": "markdown",
   "id": "624993e3",
   "metadata": {},
   "source": [
    "#### What is the meaning of each column?"
   ]
  },
  {
   "cell_type": "markdown",
   "id": "193bf28d",
   "metadata": {},
   "source": [
    "|Cột|Ý nghĩa|\n",
    "|---|---|\n",
    "|**Passenger ID**|Mã định danh duy nhất cho mỗi hành khách| \n",
    "|**First Name**|Tên của hành khách|\n",
    "|**Last Name**|Họ của hành khách|\n",
    "|**Gender**|Giới tính của hành khách|\n",
    "|**Age**|Tuổi của hành khách|\n",
    "|**Nationality**|Quốc tịch của hành khách|\n",
    "|**Airport Name**|Tên sân bay nơi hành khách lên máy bay|\n",
    "|**Airport Country Code**|Mã quốc gia của sân bay xuất phát|\n",
    "|**Country Name**|Tên quốc gia của sân bay xuất phát|\n",
    "|**Airport Continent**|Châu lục của sân bay xuất phát|\n",
    "|**Continents**|Các châu lục liên quan đến đường bay|\n",
    "|**Departure Date**|Ngày chuyến bay khởi hành|\n",
    "|**Arrival Airport**|Sân bay đến của chuyến bay|\n",
    "|**Pilot Name**|Tên phi công điều hành chuyến bay|\n",
    "|**Flight Status**|Tình trạng hiện tại của chuyến bay (ví dụ: đúng giờ, bị hoãn, bị hủy)|"
   ]
  },
  {
   "cell_type": "markdown",
   "id": "8ce47a54",
   "metadata": {},
   "source": [
    "#### What is the current data type of each column? Are there columns having inappropriate data types?"
   ]
  },
  {
   "cell_type": "code",
   "execution_count": 8,
   "id": "78cfbbcc",
   "metadata": {},
   "outputs": [
    {
     "name": "stdout",
     "output_type": "stream",
     "text": [
      "Passenger ID             int64\n",
      "First Name              object\n",
      "Last Name               object\n",
      "Gender                  object\n",
      "Age                      int64\n",
      "Nationality             object\n",
      "Airport Name            object\n",
      "Airport Country Code    object\n",
      "Country Name            object\n",
      "Airport Continent       object\n",
      "Continents              object\n",
      "Departure Date          object\n",
      "Arrival Airport         object\n",
      "Pilot Name              object\n",
      "Flight Status           object\n",
      "dtype: object\n"
     ]
    }
   ],
   "source": [
    "column_types = data.dtypes\n",
    "print(column_types)"
   ]
  },
  {
   "cell_type": "markdown",
   "id": "ed714958",
   "metadata": {},
   "source": [
    "* Các cột `First Name`, `Last Name`, `Gender `, `Nationality`, `Airport Name`, `Airport Country Code`, `Country Name `, `Airport Continent`, `Continents`, `Arrival Airport`, `Pilot Name`,`Flight Status` có kiểu dữ liệu ở dạng chuỗi, kiểu dữ liệu này đã phù hợp.\n",
    "* Cột `Age` có kiểu dữ liệu là int64, kiểu dữ liệu này đã phù hợp.\n",
    "* Cột `Departure Date` có kiểu dữ liệu ở dạng chuỗi. Để thuận tiện hơn cho việc xử lý thời gian, cần chuyển về dạng Datetime\n",
    "* Cột `Passenger ID ` có kiểu dữ liệu là int64. Tuy nhiên vì đây là mã định danh duy nhất của mỗi hành khách, cần chuyển về dạng chuỗi      "
   ]
  },
  {
   "cell_type": "code",
   "execution_count": 9,
   "id": "c720096f",
   "metadata": {},
   "outputs": [],
   "source": [
    "data['Departure Date'] = pd.to_datetime(data['Departure Date'], format='%m/%d/%Y')\n",
    "data['Passenger ID'] = data['Passenger ID'].astype(str)\n"
   ]
  },
  {
   "cell_type": "markdown",
   "id": "95aeb055",
   "metadata": {},
   "source": [
    "Since the `Departure Date` column only carries general values, we can extract more useful information from this data. The special thing is that the extracted information will be categorical values."
   ]
  },
  {
   "cell_type": "code",
   "execution_count": 10,
   "id": "1063220e",
   "metadata": {},
   "outputs": [],
   "source": [
    "if 'Departure Date' in data.columns:\n",
    "    # Extract time features from `publishedAt` column\n",
    "    data['day'] = data['Departure Date'].dt.day\n",
    "    data['day_of_week'] = data['Departure Date'].dt.dayofweek  # Monday = 0, Sunday = 6\n",
    "    data['month'] = data['Departure Date'].dt.month\n",
    "    \n",
    "    # Change datatype of the above columns to categorical\n",
    "    data['day']  = data['day'].astype('str')\n",
    "    data['day_of_week'] = data['day_of_week'].astype('str')\n",
    "    data['month'] = data['month'].astype('str')"
   ]
  },
  {
   "cell_type": "code",
   "execution_count": 11,
   "id": "fc659f9d",
   "metadata": {},
   "outputs": [
    {
     "data": {
      "text/plain": [
       "Passenger ID                    object\n",
       "First Name                      object\n",
       "Last Name                       object\n",
       "Gender                          object\n",
       "Age                              int64\n",
       "Nationality                     object\n",
       "Airport Name                    object\n",
       "Airport Country Code            object\n",
       "Country Name                    object\n",
       "Airport Continent               object\n",
       "Continents                      object\n",
       "Departure Date          datetime64[ns]\n",
       "Arrival Airport                 object\n",
       "Pilot Name                      object\n",
       "Flight Status                   object\n",
       "day                             object\n",
       "day_of_week                     object\n",
       "month                           object\n",
       "dtype: object"
      ]
     },
     "execution_count": 11,
     "metadata": {},
     "output_type": "execute_result"
    }
   ],
   "source": [
    "data.dtypes"
   ]
  },
  {
   "cell_type": "markdown",
   "id": "a78a5fa5",
   "metadata": {},
   "source": [
    "#### For each column with numeric data type, how are the values distributed?"
   ]
  },
  {
   "cell_type": "markdown",
   "id": "94f72477",
   "metadata": {},
   "source": [
    "##### What is the percentage of missing values?"
   ]
  },
  {
   "cell_type": "markdown",
   "id": "72edf67f",
   "metadata": {},
   "source": [
    "Ở cột `Age` và `Departure Date`, nhóm em xem tỉ lệ phần trăm dữ liệu bị thiếu là bao nhiêu"
   ]
  },
  {
   "cell_type": "code",
   "execution_count": 12,
   "id": "90917946",
   "metadata": {},
   "outputs": [
    {
     "name": "stdout",
     "output_type": "stream",
     "text": [
      "Percentage of missing values: \n",
      "Age               0.0\n",
      "Departure Date    0.0\n",
      "dtype: float64\n"
     ]
    }
   ],
   "source": [
    "numDate_col_info_df =data.select_dtypes(exclude='object')\n",
    "missing_percentage = (numDate_col_info_df.isnull().mean()) * 100\n",
    "print('Percentage of missing values: ')\n",
    "print(missing_percentage)"
   ]
  },
  {
   "cell_type": "markdown",
   "id": "2514b1e4",
   "metadata": {},
   "source": [
    "Như vậy ở cả 2 cột đều đủ dữ liệu"
   ]
  },
  {
   "cell_type": "markdown",
   "id": "71601c20",
   "metadata": {},
   "source": [
    "##### Vì dữ liệu chỉ có cột `Age` là có kiểu dữ liệu là số nên nhóm em sẽ tính **min, lower quartile, median, upper quartile, max** trên cột `Age`"
   ]
  },
  {
   "cell_type": "code",
   "execution_count": 13,
   "id": "1550528f",
   "metadata": {},
   "outputs": [
    {
     "name": "stdout",
     "output_type": "stream",
     "text": [
      "Min: 1\n",
      "Max: 90\n",
      "Median: 46.0\n",
      "Lower quartile: 23.0\n",
      "Upper quartile: 68.0\n"
     ]
    }
   ],
   "source": [
    "min_value = data['Age'].min()\n",
    "max_value = data['Age'].max()\n",
    "median_value = data['Age'].median()\n",
    "lower_value = data['Age'].quantile(0.25)\n",
    "upper_quartile_value = data['Age'].quantile(0.75)\n",
    "\n",
    "print(f\"Min: {min_value}\")\n",
    "print(f\"Max: {max_value}\")\n",
    "print(f\"Median: {median_value}\")\n",
    "print(f\"Lower quartile: {lower_value}\")\n",
    "print(f\"Upper quartile: {upper_quartile_value}\")"
   ]
  },
  {
   "cell_type": "markdown",
   "id": "04ff15c2",
   "metadata": {},
   "source": [
    "##### Min, Max trên cột `Departure Date`"
   ]
  },
  {
   "cell_type": "code",
   "execution_count": 14,
   "id": "db6a620d",
   "metadata": {},
   "outputs": [
    {
     "name": "stdout",
     "output_type": "stream",
     "text": [
      "Min: 2022-01-01 00:00:00\n",
      "Max: 2022-12-30 00:00:00\n"
     ]
    }
   ],
   "source": [
    "min_value = data['Departure Date'].min()\n",
    "max_value = data['Departure Date'].max()\n",
    "\n",
    "print(f\"Min: {min_value}\")\n",
    "print(f\"Max: {max_value}\")\n"
   ]
  },
  {
   "cell_type": "markdown",
   "id": "a02a890a",
   "metadata": {},
   "source": [
    "#### For each column with a non-numeric data type, how are the values distributed?"
   ]
  },
  {
   "cell_type": "code",
   "execution_count": 15,
   "id": "e239b7dc",
   "metadata": {},
   "outputs": [],
   "source": [
    "nonNum_col_info_df = data.select_dtypes(include='object')"
   ]
  },
  {
   "cell_type": "markdown",
   "id": "11c158d9",
   "metadata": {},
   "source": [
    "##### What is the percentage of missing values?"
   ]
  },
  {
   "cell_type": "code",
   "execution_count": 16,
   "id": "4fc31bad",
   "metadata": {},
   "outputs": [
    {
     "name": "stdout",
     "output_type": "stream",
     "text": [
      "Percentage of missing values: \n",
      "Passenger ID            0.0\n",
      "First Name              0.0\n",
      "Last Name               0.0\n",
      "Gender                  0.0\n",
      "Nationality             0.0\n",
      "Airport Name            0.0\n",
      "Airport Country Code    0.0\n",
      "Country Name            0.0\n",
      "Airport Continent       0.0\n",
      "Continents              0.0\n",
      "Arrival Airport         0.0\n",
      "Pilot Name              0.0\n",
      "Flight Status           0.0\n",
      "day                     0.0\n",
      "day_of_week             0.0\n",
      "month                   0.0\n",
      "dtype: float64\n"
     ]
    }
   ],
   "source": [
    "missing_percentage_nonNum = (nonNum_col_info_df.isnull().mean()) * 100\n",
    "print('Percentage of missing values: ')\n",
    "print(missing_percentage_nonNum)"
   ]
  },
  {
   "cell_type": "markdown",
   "id": "055df609",
   "metadata": {},
   "source": [
    "Như vậy toàn bộ các cột đều không bị thiếu dữ liệu"
   ]
  },
  {
   "cell_type": "markdown",
   "id": "a53da16f",
   "metadata": {},
   "source": [
    "##### How many different values? "
   ]
  },
  {
   "cell_type": "code",
   "execution_count": 17,
   "id": "bf13aed3",
   "metadata": {},
   "outputs": [
    {
     "name": "stdout",
     "output_type": "stream",
     "text": [
      "Number of distinct values:\n",
      "Passenger ID            59871\n",
      "First Name               8437\n",
      "Last Name               41658\n",
      "Gender                      2\n",
      "Nationality               240\n",
      "Airport Name             9062\n",
      "Airport Country Code      235\n",
      "Country Name              235\n",
      "Airport Continent           6\n",
      "Continents                  6\n",
      "Arrival Airport          9024\n",
      "Pilot Name              98610\n",
      "Flight Status               3\n",
      "day                        31\n",
      "day_of_week                 7\n",
      "month                      12\n",
      "dtype: int64\n"
     ]
    }
   ],
   "source": [
    "nonNum_col_unique_counts = nonNum_col_info_df.nunique()\n",
    "\n",
    "# Hiển thị kết quả\n",
    "print(\"Number of distinct values:\")\n",
    "print(nonNum_col_unique_counts)"
   ]
  },
  {
   "cell_type": "markdown",
   "id": "f67bd8ba",
   "metadata": {},
   "source": [
    "### **3. Asking meaningful questions**"
   ]
  },
  {
   "cell_type": "markdown",
   "id": "3052463c",
   "metadata": {},
   "source": [
    "#### Mức độ phân bố tuổi của hành khách là như thế nào?"
   ]
  },
  {
   "cell_type": "markdown",
   "id": "dfb32c1f",
   "metadata": {},
   "source": [
    "#### Tỷ lệ on time, delayed, cancelled so với tổng thể ở từng quốc gia, châu lục?"
   ]
  },
  {
   "cell_type": "markdown",
   "id": "e346c565",
   "metadata": {},
   "source": [
    "#### Quốc gia, châu lục nào có số lượng hành khách nhiều nhất?"
   ]
  },
  {
   "cell_type": "markdown",
   "id": "6dc866c9",
   "metadata": {},
   "source": [
    "#### Thời gian trung bình mà các chuyến bay đã diễn ra?"
   ]
  },
  {
   "cell_type": "markdown",
   "id": "b0751a51",
   "metadata": {},
   "source": [
    "### **4. Preprocessing + analyzing data to answer each question**"
   ]
  },
  {
   "cell_type": "markdown",
   "id": "483ae480",
   "metadata": {},
   "source": [
    "#### Pre-processing"
   ]
  },
  {
   "cell_type": "code",
   "execution_count": 18,
   "id": "e1a23d69",
   "metadata": {},
   "outputs": [
    {
     "data": {
      "text/html": [
       "<div>\n",
       "<style scoped>\n",
       "    .dataframe tbody tr th:only-of-type {\n",
       "        vertical-align: middle;\n",
       "    }\n",
       "\n",
       "    .dataframe tbody tr th {\n",
       "        vertical-align: top;\n",
       "    }\n",
       "\n",
       "    .dataframe thead th {\n",
       "        text-align: right;\n",
       "    }\n",
       "</style>\n",
       "<table border=\"1\" class=\"dataframe\">\n",
       "  <thead>\n",
       "    <tr style=\"text-align: right;\">\n",
       "      <th></th>\n",
       "      <th>Passenger ID</th>\n",
       "      <th>First Name</th>\n",
       "      <th>Last Name</th>\n",
       "      <th>Gender</th>\n",
       "      <th>Age</th>\n",
       "      <th>Nationality</th>\n",
       "      <th>Airport Name</th>\n",
       "      <th>Airport Country Code</th>\n",
       "      <th>Country Name</th>\n",
       "      <th>Airport Continent</th>\n",
       "      <th>Continents</th>\n",
       "      <th>Departure Date</th>\n",
       "      <th>Arrival Airport</th>\n",
       "      <th>Pilot Name</th>\n",
       "      <th>Flight Status</th>\n",
       "      <th>day</th>\n",
       "      <th>day_of_week</th>\n",
       "      <th>month</th>\n",
       "    </tr>\n",
       "  </thead>\n",
       "  <tbody>\n",
       "    <tr>\n",
       "      <th>24976</th>\n",
       "      <td>12757</td>\n",
       "      <td>Lonnie</td>\n",
       "      <td>Hubach</td>\n",
       "      <td>Male</td>\n",
       "      <td>75</td>\n",
       "      <td>Poland</td>\n",
       "      <td>Negele Airport</td>\n",
       "      <td>ET</td>\n",
       "      <td>Ethiopia</td>\n",
       "      <td>AF</td>\n",
       "      <td>Africa</td>\n",
       "      <td>2022-12-19</td>\n",
       "      <td>EGL</td>\n",
       "      <td>Lonnie Hubach</td>\n",
       "      <td>Delayed</td>\n",
       "      <td>19</td>\n",
       "      <td>0</td>\n",
       "      <td>12</td>\n",
       "    </tr>\n",
       "    <tr>\n",
       "      <th>42167</th>\n",
       "      <td>69128</td>\n",
       "      <td>Gaye</td>\n",
       "      <td>Mallord</td>\n",
       "      <td>Female</td>\n",
       "      <td>17</td>\n",
       "      <td>China</td>\n",
       "      <td>Cross City Airport</td>\n",
       "      <td>US</td>\n",
       "      <td>United States</td>\n",
       "      <td>NAM</td>\n",
       "      <td>North America</td>\n",
       "      <td>2022-04-05</td>\n",
       "      <td>CTY</td>\n",
       "      <td>Gaye Mallord</td>\n",
       "      <td>Cancelled</td>\n",
       "      <td>5</td>\n",
       "      <td>1</td>\n",
       "      <td>4</td>\n",
       "    </tr>\n",
       "    <tr>\n",
       "      <th>31188</th>\n",
       "      <td>21594</td>\n",
       "      <td>Katee</td>\n",
       "      <td>Gravie</td>\n",
       "      <td>Female</td>\n",
       "      <td>30</td>\n",
       "      <td>Mauritius</td>\n",
       "      <td>Witham Field</td>\n",
       "      <td>US</td>\n",
       "      <td>United States</td>\n",
       "      <td>NAM</td>\n",
       "      <td>North America</td>\n",
       "      <td>2022-05-10</td>\n",
       "      <td>SUA</td>\n",
       "      <td>Katee Gravie</td>\n",
       "      <td>On Time</td>\n",
       "      <td>10</td>\n",
       "      <td>1</td>\n",
       "      <td>5</td>\n",
       "    </tr>\n",
       "    <tr>\n",
       "      <th>47614</th>\n",
       "      <td>70198</td>\n",
       "      <td>Robb</td>\n",
       "      <td>Blakey</td>\n",
       "      <td>Male</td>\n",
       "      <td>29</td>\n",
       "      <td>Cyprus</td>\n",
       "      <td>Anqing Tianzhushan Airport</td>\n",
       "      <td>CN</td>\n",
       "      <td>China</td>\n",
       "      <td>AS</td>\n",
       "      <td>Asia</td>\n",
       "      <td>2022-07-06</td>\n",
       "      <td>AQG</td>\n",
       "      <td>Robb Blakey</td>\n",
       "      <td>On Time</td>\n",
       "      <td>6</td>\n",
       "      <td>2</td>\n",
       "      <td>7</td>\n",
       "    </tr>\n",
       "    <tr>\n",
       "      <th>91868</th>\n",
       "      <td>35466</td>\n",
       "      <td>Roberto</td>\n",
       "      <td>Zuenelli</td>\n",
       "      <td>Male</td>\n",
       "      <td>37</td>\n",
       "      <td>Poland</td>\n",
       "      <td>Yellowstone Airport</td>\n",
       "      <td>US</td>\n",
       "      <td>United States</td>\n",
       "      <td>NAM</td>\n",
       "      <td>North America</td>\n",
       "      <td>2022-02-15</td>\n",
       "      <td>WYS</td>\n",
       "      <td>Roberto Zuenelli</td>\n",
       "      <td>On Time</td>\n",
       "      <td>15</td>\n",
       "      <td>1</td>\n",
       "      <td>2</td>\n",
       "    </tr>\n",
       "  </tbody>\n",
       "</table>\n",
       "</div>"
      ],
      "text/plain": [
       "      Passenger ID First Name Last Name  Gender  Age Nationality  \\\n",
       "24976        12757     Lonnie    Hubach    Male   75      Poland   \n",
       "42167        69128       Gaye   Mallord  Female   17       China   \n",
       "31188        21594      Katee    Gravie  Female   30   Mauritius   \n",
       "47614        70198       Robb    Blakey    Male   29      Cyprus   \n",
       "91868        35466    Roberto  Zuenelli    Male   37      Poland   \n",
       "\n",
       "                     Airport Name Airport Country Code   Country Name  \\\n",
       "24976              Negele Airport                   ET       Ethiopia   \n",
       "42167          Cross City Airport                   US  United States   \n",
       "31188                Witham Field                   US  United States   \n",
       "47614  Anqing Tianzhushan Airport                   CN          China   \n",
       "91868         Yellowstone Airport                   US  United States   \n",
       "\n",
       "      Airport Continent     Continents Departure Date Arrival Airport  \\\n",
       "24976                AF         Africa     2022-12-19             EGL   \n",
       "42167               NAM  North America     2022-04-05             CTY   \n",
       "31188               NAM  North America     2022-05-10             SUA   \n",
       "47614                AS           Asia     2022-07-06             AQG   \n",
       "91868               NAM  North America     2022-02-15             WYS   \n",
       "\n",
       "             Pilot Name Flight Status day day_of_week month  \n",
       "24976     Lonnie Hubach       Delayed  19           0    12  \n",
       "42167      Gaye Mallord     Cancelled   5           1     4  \n",
       "31188      Katee Gravie       On Time  10           1     5  \n",
       "47614       Robb Blakey       On Time   6           2     7  \n",
       "91868  Roberto Zuenelli       On Time  15           1     2  "
      ]
     },
     "execution_count": 18,
     "metadata": {},
     "output_type": "execute_result"
    }
   ],
   "source": [
    "data.sample(5)"
   ]
  },
  {
   "cell_type": "code",
   "execution_count": 19,
   "id": "92d5db74",
   "metadata": {},
   "outputs": [
    {
     "name": "stdout",
     "output_type": "stream",
     "text": [
      "<class 'pandas.core.frame.DataFrame'>\n",
      "RangeIndex: 98619 entries, 0 to 98618\n",
      "Data columns (total 18 columns):\n",
      " #   Column                Non-Null Count  Dtype         \n",
      "---  ------                --------------  -----         \n",
      " 0   Passenger ID          98619 non-null  object        \n",
      " 1   First Name            98619 non-null  object        \n",
      " 2   Last Name             98619 non-null  object        \n",
      " 3   Gender                98619 non-null  object        \n",
      " 4   Age                   98619 non-null  int64         \n",
      " 5   Nationality           98619 non-null  object        \n",
      " 6   Airport Name          98619 non-null  object        \n",
      " 7   Airport Country Code  98619 non-null  object        \n",
      " 8   Country Name          98619 non-null  object        \n",
      " 9   Airport Continent     98619 non-null  object        \n",
      " 10  Continents            98619 non-null  object        \n",
      " 11  Departure Date        98619 non-null  datetime64[ns]\n",
      " 12  Arrival Airport       98619 non-null  object        \n",
      " 13  Pilot Name            98619 non-null  object        \n",
      " 14  Flight Status         98619 non-null  object        \n",
      " 15  day                   98619 non-null  object        \n",
      " 16  day_of_week           98619 non-null  object        \n",
      " 17  month                 98619 non-null  object        \n",
      "dtypes: datetime64[ns](1), int64(1), object(16)\n",
      "memory usage: 13.5+ MB\n"
     ]
    }
   ],
   "source": [
    "data.info()"
   ]
  },
  {
   "cell_type": "code",
   "execution_count": 20,
   "id": "f5193cd2",
   "metadata": {},
   "outputs": [
    {
     "name": "stdout",
     "output_type": "stream",
     "text": [
      "Số lượng giá trị null trong từng cột:\n",
      "Passenger ID            0\n",
      "First Name              0\n",
      "Last Name               0\n",
      "Gender                  0\n",
      "Age                     0\n",
      "Nationality             0\n",
      "Airport Name            0\n",
      "Airport Country Code    0\n",
      "Country Name            0\n",
      "Airport Continent       0\n",
      "Continents              0\n",
      "Departure Date          0\n",
      "Arrival Airport         0\n",
      "Pilot Name              0\n",
      "Flight Status           0\n",
      "day                     0\n",
      "day_of_week             0\n",
      "month                   0\n",
      "dtype: int64\n"
     ]
    }
   ],
   "source": [
    "print(\"Số lượng giá trị null trong từng cột:\")\n",
    "print(data.isnull().sum())"
   ]
  },
  {
   "cell_type": "markdown",
   "id": "dfb469b9",
   "metadata": {},
   "source": [
    "#### Câu 1: Quốc gia, châu lục nào có số lượng hành khách nhiều nhất? "
   ]
  },
  {
   "cell_type": "markdown",
   "id": "58e005be",
   "metadata": {},
   "source": [
    "**Trả lời câu hỏi này sẽ**\n",
    "\n",
    "\n",
    "**Cách chúng tôi trả lời câu hỏi này**:"
   ]
  },
  {
   "cell_type": "markdown",
   "id": "29e2b7f5",
   "metadata": {},
   "source": [
    "##### Bước 1: Tính số lượng hành khách theo quốc gia và theo châu lục"
   ]
  },
  {
   "cell_type": "code",
   "execution_count": 21,
   "id": "b0876571",
   "metadata": {},
   "outputs": [],
   "source": [
    "total_passengers_by_country = data.groupby(\"Country Name\")[\"Passenger ID\"].count().reset_index()\n",
    "total_passengers_by_continent = data.groupby(\"Continents\")[\"Passenger ID\"].count().reset_index()"
   ]
  },
  {
   "cell_type": "markdown",
   "id": "20ff6149",
   "metadata": {},
   "source": [
    "##### Bước 2: Tính 10 quốc gia có lượng hành khách nhiều nhất"
   ]
  },
  {
   "cell_type": "code",
   "execution_count": 22,
   "id": "949e4cd3",
   "metadata": {},
   "outputs": [],
   "source": [
    "top_10_countries = total_passengers_by_country.nlargest(10, 'Passenger ID')"
   ]
  },
  {
   "cell_type": "code",
   "execution_count": 23,
   "id": "322ba95d",
   "metadata": {},
   "outputs": [
    {
     "name": "stderr",
     "output_type": "stream",
     "text": [
      "/var/folders/th/94z5wy_n3sj3p3j85k9020yw0000gn/T/ipykernel_88483/3245659448.py:5: FutureWarning: The geopandas.dataset module is deprecated and will be removed in GeoPandas 1.0. You can get the original 'naturalearth_lowres' data from https://www.naturalearthdata.com/downloads/110m-cultural-vectors/.\n",
      "  world = gpd.read_file(gpd.datasets.get_path('naturalearth_lowres'))\n"
     ]
    },
    {
     "data": {
      "image/png": "[encoded data removed]",
      "text/plain": [
       "<Figure size 1500x800 with 3 Axes>"
      ]
     },
     "metadata": {},
     "output_type": "display_data"
    }
   ],
   "source": [
    "import geopandas as gpd\n",
    "import matplotlib.pyplot as plt\n",
    "\n",
    "# Tập dữ liệu về địa lý của quốc gia\n",
    "world = gpd.read_file(gpd.datasets.get_path('naturalearth_lowres'))\n",
    "\n",
    "# Merge dữ liệu với tập dữ liệu chứa thông tin về số lượng hành khách\n",
    "merged_data = world.merge(total_passengers_by_country, how='left', left_on='name', right_on='Country Name')\n",
    "\n",
    "# Trực quan hóa\n",
    "fig, ax = plt.subplots(1, 1, figsize=(15, 8))\n",
    "merged_data.plot(column='Passenger ID', linewidth=0.8, ax=ax, edgecolor='0.8', legend=True)\n",
    "\n",
    "# Thiết lập tiêu đề và chú thích\n",
    "ax.set_title('Số lượng hành khách theo quốc gia', fontdict={'fontsize': '15', 'fontweight' : '3'})\n",
    "ax.set_xlabel('Kinh độ')\n",
    "ax.set_ylabel('Vĩ độ')\n",
    "\n",
    "# Hiển thị bảng chú thích\n",
    "cax = fig.add_axes([0.9, 0.1, 0.03, 0.8])\n",
    "sm = plt.cm.ScalarMappable(cmap='Blues', norm=plt.Normalize(vmin=merged_data['Passenger ID'].min(), vmax=merged_data['Passenger ID'].max()))\n",
    "sm._A = []\n",
    "fig.colorbar(sm, cax=cax, label='Số lượng hành khách')\n",
    "\n",
    "plt.show()"
   ]
  },
  {
   "cell_type": "code",
   "execution_count": 24,
   "id": "3e4cd1e1",
   "metadata": {},
   "outputs": [
    {
     "data": {
      "image/png": "[encoded data removed]",
      "text/plain": [
       "<Figure size 1500x1200 with 2 Axes>"
      ]
     },
     "metadata": {},
     "output_type": "display_data"
    }
   ],
   "source": [
    "# Trực quan hóa\n",
    "fig, axes = plt.subplots(nrows=2, ncols=1, figsize=(15, 12))\n",
    "\n",
    "# Biểu đồ 1: 5 quốc gia có lượng khách lớn nhất\n",
    "axes[0].bar(top_10_countries[\"Country Name\"], top_10_countries[\"Passenger ID\"], color='skyblue')\n",
    "axes[0].set_title('Top 10 quốc gia có lượng khách lớn nhất')\n",
    "axes[0].set_xlabel('Quốc gia')\n",
    "axes[0].set_ylabel('Số lượng hành khách')\n",
    "\n",
    "# Biểu đồ 2: Phân bố hành khách theo châu lục\n",
    "axes[1].bar(total_passengers_by_continent[\"Continents\"], total_passengers_by_continent[\"Passenger ID\"])\n",
    "axes[1].set_title('Phân bố hành khách theo châu lục')\n",
    "axes[1].set_xlabel('Châu lục')\n",
    "axes[1].set_ylabel('Số lượng hành khách')\n",
    "\n",
    "plt.tight_layout()\n",
    "plt.show()\n"
   ]
  },
  {
   "cell_type": "code",
   "execution_count": 25,
   "id": "9a634814",
   "metadata": {},
   "outputs": [],
   "source": [
    "df_c= pd.DataFrame(data['Country Name'].value_counts()).reset_index().rename(columns={\"index\": \"value\", 0: \"count\"})"
   ]
  },
  {
   "cell_type": "code",
   "execution_count": 26,
   "id": "e6f5d830",
   "metadata": {},
   "outputs": [],
   "source": [
    "con=data.loc[:,['Country Name','Continents']]\n",
    "con=con.drop_duplicates()\n",
    "new_df=pd.merge_ordered(df_c,con, fill_method= 'ffill', on= 'Country Name')"
   ]
  },
  {
   "cell_type": "code",
   "execution_count": 27,
   "id": "7536bcfa",
   "metadata": {},
   "outputs": [
    {
     "data": {
      "application/vnd.plotly.v1+json": {
       "config": {
        "plotlyServerURL": "https://plot.ly"
       },
       "data": [
        {
         "branchvalues": "total",
         "customdata": [
          [
           372
          ],
          [
           12
          ],
          [
           449
          ],
          [
           45
          ],
          [
           7
          ],
          [
           445
          ],
          [
           14
          ],
          [
           20
          ],
          [
           1203
          ],
          [
           21
          ],
          [
           9
          ],
          [
           6370
          ],
          [
           91
          ],
          [
           87
          ],
          [
           402
          ],
          [
           12
          ],
          [
           180
          ],
          [
           13
          ],
          [
           67
          ],
          [
           72
          ],
          [
           218
          ],
          [
           51
          ],
          [
           21
          ],
          [
           46
          ],
          [
           404
          ],
          [
           33
          ],
          [
           47
          ],
          [
           174
          ],
          [
           4504
          ],
          [
           16
          ],
          [
           8
          ],
          [
           110
          ],
          [
           274
          ],
          [
           39
          ],
          [
           115
          ],
          [
           124
          ],
          [
           221
          ],
          [
           5424
          ],
          [
           27
          ],
          [
           241
          ],
          [
           231
          ],
          [
           582
          ],
          [
           2779
          ],
          [
           11
          ],
          [
           8
          ],
          [
           1643
          ],
          [
           47
          ],
          [
           285
          ],
          [
           678
          ],
          [
           98
          ],
          [
           313
          ],
          [
           100
          ],
          [
           343
          ],
          [
           54
          ],
          [
           141
          ],
          [
           235
          ],
          [
           184
          ],
          [
           44
          ],
          [
           27
          ],
          [
           137
          ],
          [
           287
          ],
          [
           299
          ],
          [
           299
          ],
          [
           14
          ],
          [
           61
          ],
          [
           48
          ],
          [
           52
          ],
          [
           23
          ],
          [
           544
          ],
          [
           27
          ],
          [
           11
          ],
          [
           300
          ],
          [
           338
          ],
          [
           1382
          ],
          [
           83
          ],
          [
           535
          ],
          [
           326
          ],
          [
           15
          ],
          [
           35
          ],
          [
           1161
          ],
          [
           41
          ],
          [
           9
          ],
          [
           488
          ],
          [
           359
          ],
          [
           23
          ],
          [
           56
          ],
          [
           26
          ],
          [
           245
          ],
          [
           16
          ],
          [
           121
          ],
          [
           10
          ],
          [
           288
          ],
          [
           56
          ],
          [
           312
          ],
          [
           36
          ],
          [
           65
          ],
          [
           409
          ],
          [
           1486
          ],
          [
           2358
          ],
          [
           816
          ],
          [
           123
          ],
          [
           193
          ],
          [
           12
          ],
          [
           163
          ],
          [
           669
          ],
          [
           83
          ],
          [
           1004
          ],
          [
           4
          ],
          [
           43
          ],
          [
           284
          ],
          [
           425
          ],
          [
           252
          ],
          [
           56
          ],
          [
           332
          ],
          [
           23
          ],
          [
           38
          ],
          [
           171
          ],
          [
           34
          ],
          [
           25
          ],
          [
           177
          ],
          [
           160
          ],
          [
           221
          ],
          [
           63
          ],
          [
           9
          ],
          [
           14
          ],
          [
           663
          ],
          [
           122
          ],
          [
           687
          ],
          [
           133
          ],
          [
           132
          ],
          [
           16
          ],
          [
           353
          ],
          [
           10
          ],
          [
           199
          ],
          [
           24
          ],
          [
           13
          ],
          [
           1073
          ],
          [
           64
          ],
          [
           24
          ],
          [
           7
          ],
          [
           263
          ],
          [
           45
          ],
          [
           17
          ],
          [
           260
          ],
          [
           397
          ],
          [
           462
          ],
          [
           7
          ],
          [
           441
          ],
          [
           162
          ],
          [
           151
          ],
          [
           594
          ],
          [
           143
          ],
          [
           60
          ],
          [
           278
          ],
          [
           15
          ],
          [
           10
          ],
          [
           26
          ],
          [
           43
          ],
          [
           603
          ],
          [
           201
          ],
          [
           718
          ],
          [
           5
          ],
          [
           31
          ],
          [
           406
          ],
          [
           4081
          ],
          [
           162
          ],
          [
           483
          ],
          [
           778
          ],
          [
           220
          ],
          [
           239
          ],
          [
           160
          ],
          [
           39
          ],
          [
           185
          ],
          [
           2247
          ],
          [
           2247
          ],
          [
           50
          ],
          [
           20
          ],
          [
           11
          ],
          [
           20
          ],
          [
           23
          ],
          [
           18
          ],
          [
           24
          ],
          [
           25
          ],
          [
           46
          ],
          [
           43
          ],
          [
           29
          ],
          [
           367
          ],
          [
           159
          ],
          [
           43
          ],
          [
           62
          ],
          [
           84
          ],
          [
           44
          ],
          [
           9
          ],
          [
           75
          ],
          [
           32
          ],
          [
           418
          ],
          [
           226
          ],
          [
           945
          ],
          [
           48
          ],
          [
           607
          ],
          [
           361
          ],
          [
           264
          ],
          [
           159
          ],
          [
           579
          ],
          [
           146
          ],
          [
           85
          ],
          [
           221
          ],
          [
           43
          ],
          [
           345
          ],
          [
           500
          ],
          [
           84
          ],
          [
           23
          ],
          [
           69
          ],
          [
           23
          ],
          [
           105
          ],
          [
           704
          ],
          [
           704
          ],
          [
           54
          ],
          [
           68
          ],
          [
           16
          ],
          [
           154
          ],
          [
           398
          ],
          [
           158
          ],
          [
           1371
          ],
          [
           22104
          ],
          [
           27
          ],
          [
           163
          ],
          [
           128
          ],
          [
           327
          ],
          [
           730
          ],
          [
           368
          ],
          [
           31
          ],
          [
           52
          ],
          [
           17
          ],
          [
           39
          ],
          [
           186
          ],
          [
           222
          ],
          [
           148
          ],
          [
           377.4086196014787
          ],
          [
           1288.8135484823142
          ],
          [
           964.9780251554142
          ],
          [
           16233.290325601723
          ],
          [
           4217.483196307515
          ],
          [
           2421.331218510916
          ]
         ],
         "domain": {
          "x": [
           0,
           1
          ],
          "y": [
           0,
           1
          ]
         },
         "hovertemplate": "labels=%{label}<br>count_sum=%{value}<br>parent=%{parent}<br>id=%{id}<br>count=%{color}<extra></extra>",
         "ids": [
          "Asia/Afghanistan",
          "Europe/Albania",
          "Africa/Algeria",
          "Oceania/American Samoa",
          "Europe/Andorra",
          "Africa/Angola",
          "North America/Anguilla",
          "North America/Antigua and Barbuda",
          "South America/Argentina",
          "Asia/Armenia",
          "North America/Aruba",
          "Oceania/Australia",
          "Europe/Austria",
          "Asia/Azerbaijan",
          "North America/Bahamas",
          "Asia/Bahrain",
          "Asia/Bangladesh",
          "North America/Barbados",
          "Europe/Belarus",
          "Europe/Belgium",
          "North America/Belize",
          "Africa/Benin",
          "North America/Bermuda",
          "Asia/Bhutan",
          "South America/Bolivia, Plurinational State of",
          "North America/Bonaire, Sint Eustatius and Saba",
          "Europe/Bosnia and Herzegovina",
          "Africa/Botswana",
          "South America/Brazil",
          "Asia/British Indian Ocean Territory",
          "Asia/Brunei Darussalam",
          "Europe/Bulgaria",
          "Africa/Burkina Faso",
          "Africa/Burundi",
          "Africa/Cabo Verde",
          "Asia/Cambodia",
          "Africa/Cameroon",
          "North America/Canada",
          "North America/Cayman Islands",
          "Africa/Central African Republic",
          "Africa/Chad",
          "South America/Chile",
          "Asia/China",
          "Asia/Christmas Island",
          "Asia/Cocos (Keeling) Islands",
          "South America/Colombia",
          "Africa/Comoros",
          "Africa/Congo",
          "Africa/Congo, The Democratic Republic of the",
          "Oceania/Cook Islands",
          "North America/Costa Rica",
          "Europe/Croatia",
          "North America/Cuba",
          "Asia/Cyprus",
          "Europe/Czechia",
          "Africa/Côte d'Ivoire",
          "Europe/Denmark",
          "Africa/Djibouti",
          "North America/Dominica",
          "North America/Dominican Republic",
          "South America/Ecuador",
          "Africa/Egypt",
          "Asia/Egypt",
          "North America/El Salvador",
          "Africa/Equatorial Guinea",
          "Africa/Eritrea",
          "Europe/Estonia",
          "Africa/Eswatini",
          "Africa/Ethiopia",
          "South America/Falkland Islands (Malvinas)",
          "Europe/Faroe Islands",
          "Oceania/Fiji",
          "Europe/Finland",
          "Europe/France",
          "South America/French Guiana",
          "Oceania/French Polynesia",
          "Africa/Gabon",
          "Africa/Gambia",
          "Asia/Georgia",
          "Europe/Germany",
          "Africa/Ghana",
          "Europe/Gibraltar",
          "Europe/Greece",
          "Europe/Greenland",
          "North America/Grenada",
          "North America/Guadeloupe",
          "Oceania/Guam",
          "North America/Guatemala",
          "Europe/Guernsey",
          "Africa/Guinea",
          "Africa/Guinea-Bissau",
          "South America/Guyana",
          "North America/Haiti",
          "North America/Honduras",
          "Asia/Hong Kong",
          "Europe/Hungary",
          "Europe/Iceland",
          "Asia/India",
          "Asia/Indonesia",
          "Asia/Iran, Islamic Republic of",
          "Asia/Iraq",
          "Europe/Ireland",
          "Europe/Isle of Man",
          "Asia/Israel",
          "Europe/Italy",
          "North America/Jamaica",
          "Asia/Japan",
          "Europe/Jersey",
          "Asia/Jordan",
          "Asia/Kazakhstan",
          "Africa/Kenya",
          "Oceania/Kiribati",
          "Asia/Korea, Democratic People's Republic of",
          "Asia/Korea, Republic of",
          "Asia/Kuwait",
          "Asia/Kyrgyzstan",
          "Asia/Lao People's Democratic Republic",
          "Europe/Latvia",
          "Asia/Lebanon",
          "Africa/Lesotho",
          "Africa/Liberia",
          "Africa/Libya",
          "Europe/Lithuania",
          "Europe/Luxembourg",
          "Asia/Macao",
          "Africa/Madagascar",
          "Africa/Malawi",
          "Asia/Malaysia",
          "Asia/Maldives",
          "Africa/Mali",
          "Europe/Malta",
          "Oceania/Marshall Islands",
          "North America/Martinique",
          "Africa/Mauritania",
          "Africa/Mauritius",
          "Africa/Mayotte",
          "North America/Mexico",
          "Oceania/Micronesia, Federated States of",
          "Europe/Moldova, Republic of",
          "Europe/Monaco",
          "Asia/Mongolia",
          "Europe/Montenegro",
          "North America/Montserrat",
          "Africa/Morocco",
          "Africa/Mozambique",
          "Asia/Myanmar",
          "Oceania/Nauru",
          "Asia/Nepal",
          "Europe/Netherlands",
          "Oceania/New Caledonia",
          "Oceania/New Zealand",
          "North America/Nicaragua",
          "Africa/Niger",
          "Africa/Nigeria",
          "Oceania/Niue",
          "Oceania/Norfolk Island",
          "Europe/North Macedonia",
          "Oceania/Northern Mariana Islands",
          "Europe/Norway",
          "Asia/Oman",
          "Asia/Pakistan",
          "Oceania/Palau",
          "Asia/Palestine, State of",
          "North America/Panama",
          "Oceania/Papua New Guinea",
          "South America/Paraguay",
          "South America/Peru",
          "Asia/Philippines",
          "Europe/Poland",
          "Europe/Portugal",
          "North America/Puerto Rico",
          "Asia/Qatar",
          "Europe/Romania",
          "Asia/Russian Federation",
          "Europe/Russian Federation",
          "Africa/Rwanda",
          "Africa/Réunion",
          "North America/Saint Barthélemy",
          "Africa/Saint Helena, Ascension and Tristan da Cunha",
          "North America/Saint Kitts and Nevis",
          "North America/Saint Lucia",
          "North America/Saint Martin (French part)",
          "North America/Saint Pierre and Miquelon",
          "North America/Saint Vincent and the Grenadines",
          "Oceania/Samoa",
          "Africa/Sao Tome and Principe",
          "Asia/Saudi Arabia",
          "Africa/Senegal",
          "Europe/Serbia",
          "Africa/Seychelles",
          "Africa/Sierra Leone",
          "Asia/Singapore",
          "North America/Sint Maarten (Dutch part)",
          "Europe/Slovakia",
          "Europe/Slovenia",
          "Oceania/Solomon Islands",
          "Africa/Somalia",
          "Africa/South Africa",
          "Africa/South Sudan",
          "Europe/Spain",
          "Asia/Sri Lanka",
          "Africa/Sudan",
          "South America/Suriname",
          "Europe/Sweden",
          "Europe/Switzerland",
          "Asia/Syrian Arab Republic",
          "Asia/Taiwan, Province of China",
          "Asia/Tajikistan",
          "Africa/Tanzania, United Republic of",
          "Asia/Thailand",
          "Asia/Timor-Leste",
          "Africa/Togo",
          "Oceania/Tonga",
          "North America/Trinidad and Tobago",
          "Africa/Tunisia",
          "Asia/Turkey",
          "Europe/Turkey",
          "Asia/Turkmenistan",
          "North America/Turks and Caicos Islands",
          "Oceania/Tuvalu",
          "Africa/Uganda",
          "Europe/Ukraine",
          "Asia/United Arab Emirates",
          "Europe/United Kingdom",
          "North America/United States",
          "Oceania/United States Minor Outlying Islands",
          "South America/Uruguay",
          "Asia/Uzbekistan",
          "Oceania/Vanuatu",
          "South America/Venezuela, Bolivarian Republic of",
          "Asia/Viet Nam",
          "North America/Virgin Islands, British",
          "North America/Virgin Islands, U.S.",
          "Oceania/Wallis and Futuna",
          "Africa/Western Sahara",
          "Asia/Yemen",
          "Africa/Zambia",
          "Africa/Zimbabwe",
          "Africa",
          "Asia",
          "Europe",
          "North America",
          "Oceania",
          "South America"
         ],
         "labels": [
          "Afghanistan",
          "Albania",
          "Algeria",
          "American Samoa",
          "Andorra",
          "Angola",
          "Anguilla",
          "Antigua and Barbuda",
          "Argentina",
          "Armenia",
          "Aruba",
          "Australia",
          "Austria",
          "Azerbaijan",
          "Bahamas",
          "Bahrain",
          "Bangladesh",
          "Barbados",
          "Belarus",
          "Belgium",
          "Belize",
          "Benin",
          "Bermuda",
          "Bhutan",
          "Bolivia, Plurinational State of",
          "Bonaire, Sint Eustatius and Saba",
          "Bosnia and Herzegovina",
          "Botswana",
          "Brazil",
          "British Indian Ocean Territory",
          "Brunei Darussalam",
          "Bulgaria",
          "Burkina Faso",
          "Burundi",
          "Cabo Verde",
          "Cambodia",
          "Cameroon",
          "Canada",
          "Cayman Islands",
          "Central African Republic",
          "Chad",
          "Chile",
          "China",
          "Christmas Island",
          "Cocos (Keeling) Islands",
          "Colombia",
          "Comoros",
          "Congo",
          "Congo, The Democratic Republic of the",
          "Cook Islands",
          "Costa Rica",
          "Croatia",
          "Cuba",
          "Cyprus",
          "Czechia",
          "Côte d'Ivoire",
          "Denmark",
          "Djibouti",
          "Dominica",
          "Dominican Republic",
          "Ecuador",
          "Egypt",
          "Egypt",
          "El Salvador",
          "Equatorial Guinea",
          "Eritrea",
          "Estonia",
          "Eswatini",
          "Ethiopia",
          "Falkland Islands (Malvinas)",
          "Faroe Islands",
          "Fiji",
          "Finland",
          "France",
          "French Guiana",
          "French Polynesia",
          "Gabon",
          "Gambia",
          "Georgia",
          "Germany",
          "Ghana",
          "Gibraltar",
          "Greece",
          "Greenland",
          "Grenada",
          "Guadeloupe",
          "Guam",
          "Guatemala",
          "Guernsey",
          "Guinea",
          "Guinea-Bissau",
          "Guyana",
          "Haiti",
          "Honduras",
          "Hong Kong",
          "Hungary",
          "Iceland",
          "India",
          "Indonesia",
          "Iran, Islamic Republic of",
          "Iraq",
          "Ireland",
          "Isle of Man",
          "Israel",
          "Italy",
          "Jamaica",
          "Japan",
          "Jersey",
          "Jordan",
          "Kazakhstan",
          "Kenya",
          "Kiribati",
          "Korea, Democratic People's Republic of",
          "Korea, Republic of",
          "Kuwait",
          "Kyrgyzstan",
          "Lao People's Democratic Republic",
          "Latvia",
          "Lebanon",
          "Lesotho",
          "Liberia",
          "Libya",
          "Lithuania",
          "Luxembourg",
          "Macao",
          "Madagascar",
          "Malawi",
          "Malaysia",
          "Maldives",
          "Mali",
          "Malta",
          "Marshall Islands",
          "Martinique",
          "Mauritania",
          "Mauritius",
          "Mayotte",
          "Mexico",
          "Micronesia, Federated States of",
          "Moldova, Republic of",
          "Monaco",
          "Mongolia",
          "Montenegro",
          "Montserrat",
          "Morocco",
          "Mozambique",
          "Myanmar",
          "Nauru",
          "Nepal",
          "Netherlands",
          "New Caledonia",
          "New Zealand",
          "Nicaragua",
          "Niger",
          "Nigeria",
          "Niue",
          "Norfolk Island",
          "North Macedonia",
          "Northern Mariana Islands",
          "Norway",
          "Oman",
          "Pakistan",
          "Palau",
          "Palestine, State of",
          "Panama",
          "Papua New Guinea",
          "Paraguay",
          "Peru",
          "Philippines",
          "Poland",
          "Portugal",
          "Puerto Rico",
          "Qatar",
          "Romania",
          "Russian Federation",
          "Russian Federation",
          "Rwanda",
          "Réunion",
          "Saint Barthélemy",
          "Saint Helena, Ascension and Tristan da Cunha",
          "Saint Kitts and Nevis",
          "Saint Lucia",
          "Saint Martin (French part)",
          "Saint Pierre and Miquelon",
          "Saint Vincent and the Grenadines",
          "Samoa",
          "Sao Tome and Principe",
          "Saudi Arabia",
          "Senegal",
          "Serbia",
          "Seychelles",
          "Sierra Leone",
          "Singapore",
          "Sint Maarten (Dutch part)",
          "Slovakia",
          "Slovenia",
          "Solomon Islands",
          "Somalia",
          "South Africa",
          "South Sudan",
          "Spain",
          "Sri Lanka",
          "Sudan",
          "Suriname",
          "Sweden",
          "Switzerland",
          "Syrian Arab Republic",
          "Taiwan, Province of China",
          "Tajikistan",
          "Tanzania, United Republic of",
          "Thailand",
          "Timor-Leste",
          "Togo",
          "Tonga",
          "Trinidad and Tobago",
          "Tunisia",
          "Turkey",
          "Turkey",
          "Turkmenistan",
          "Turks and Caicos Islands",
          "Tuvalu",
          "Uganda",
          "Ukraine",
          "United Arab Emirates",
          "United Kingdom",
          "United States",
          "United States Minor Outlying Islands",
          "Uruguay",
          "Uzbekistan",
          "Vanuatu",
          "Venezuela, Bolivarian Republic of",
          "Viet Nam",
          "Virgin Islands, British",
          "Virgin Islands, U.S.",
          "Wallis and Futuna",
          "Western Sahara",
          "Yemen",
          "Zambia",
          "Zimbabwe",
          "Africa",
          "Asia",
          "Europe",
          "North America",
          "Oceania",
          "South America"
         ],
         "marker": {
          "coloraxis": "coloraxis",
          "colors": [
           372,
           12,
           449,
           45,
           7,
           445,
           14,
           20,
           1203,
           21,
           9,
           6370,
           91,
           87,
           402,
           12,
           180,
           13,
           67,
           72,
           218,
           51,
           21,
           46,
           404,
           33,
           47,
           174,
           4504,
           16,
           8,
           110,
           274,
           39,
           115,
           124,
           221,
           5424,
           27,
           241,
           231,
           582,
           2779,
           11,
           8,
           1643,
           47,
           285,
           678,
           98,
           313,
           100,
           343,
           54,
           141,
           235,
           184,
           44,
           27,
           137,
           287,
           299,
           299,
           14,
           61,
           48,
           52,
           23,
           544,
           27,
           11,
           300,
           338,
           1382,
           83,
           535,
           326,
           15,
           35,
           1161,
           41,
           9,
           488,
           359,
           23,
           56,
           26,
           245,
           16,
           121,
           10,
           288,
           56,
           312,
           36,
           65,
           409,
           1486,
           2358,
           816,
           123,
           193,
           12,
           163,
           669,
           83,
           1004,
           4,
           43,
           284,
           425,
           252,
           56,
           332,
           23,
           38,
           171,
           34,
           25,
           177,
           160,
           221,
           63,
           9,
           14,
           663,
           122,
           687,
           133,
           132,
           16,
           353,
           10,
           199,
           24,
           13,
           1073,
           64,
           24,
           7,
           263,
           45,
           17,
           260,
           397,
           462,
           7,
           441,
           162,
           151,
           594,
           143,
           60,
           278,
           15,
           10,
           26,
           43,
           603,
           201,
           718,
           5,
           31,
           406,
           4081,
           162,
           483,
           778,
           220,
           239,
           160,
           39,
           185,
           2247,
           2247,
           50,
           20,
           11,
           20,
           23,
           18,
           24,
           25,
           46,
           43,
           29,
           367,
           159,
           43,
           62,
           84,
           44,
           9,
           75,
           32,
           418,
           226,
           945,
           48,
           607,
           361,
           264,
           159,
           579,
           146,
           85,
           221,
           43,
           345,
           500,
           84,
           23,
           69,
           23,
           105,
           704,
           704,
           54,
           68,
           16,
           154,
           398,
           158,
           1371,
           22104,
           27,
           163,
           128,
           327,
           730,
           368,
           31,
           52,
           17,
           39,
           186,
           222,
           148,
           377.4086196014787,
           1288.8135484823142,
           964.9780251554142,
           16233.290325601723,
           4217.483196307515,
           2421.331218510916
          ]
         },
         "name": "",
         "parents": [
          "Asia",
          "Europe",
          "Africa",
          "Oceania",
          "Europe",
          "Africa",
          "North America",
          "North America",
          "South America",
          "Asia",
          "North America",
          "Oceania",
          "Europe",
          "Asia",
          "North America",
          "Asia",
          "Asia",
          "North America",
          "Europe",
          "Europe",
          "North America",
          "Africa",
          "North America",
          "Asia",
          "South America",
          "North America",
          "Europe",
          "Africa",
          "South America",
          "Asia",
          "Asia",
          "Europe",
          "Africa",
          "Africa",
          "Africa",
          "Asia",
          "Africa",
          "North America",
          "North America",
          "Africa",
          "Africa",
          "South America",
          "Asia",
          "Asia",
          "Asia",
          "South America",
          "Africa",
          "Africa",
          "Africa",
          "Oceania",
          "North America",
          "Europe",
          "North America",
          "Asia",
          "Europe",
          "Africa",
          "Europe",
          "Africa",
          "North America",
          "North America",
          "South America",
          "Africa",
          "Asia",
          "North America",
          "Africa",
          "Africa",
          "Europe",
          "Africa",
          "Africa",
          "South America",
          "Europe",
          "Oceania",
          "Europe",
          "Europe",
          "South America",
          "Oceania",
          "Africa",
          "Africa",
          "Asia",
          "Europe",
          "Africa",
          "Europe",
          "Europe",
          "Europe",
          "North America",
          "North America",
          "Oceania",
          "North America",
          "Europe",
          "Africa",
          "Africa",
          "South America",
          "North America",
          "North America",
          "Asia",
          "Europe",
          "Europe",
          "Asia",
          "Asia",
          "Asia",
          "Asia",
          "Europe",
          "Europe",
          "Asia",
          "Europe",
          "North America",
          "Asia",
          "Europe",
          "Asia",
          "Asia",
          "Africa",
          "Oceania",
          "Asia",
          "Asia",
          "Asia",
          "Asia",
          "Asia",
          "Europe",
          "Asia",
          "Africa",
          "Africa",
          "Africa",
          "Europe",
          "Europe",
          "Asia",
          "Africa",
          "Africa",
          "Asia",
          "Asia",
          "Africa",
          "Europe",
          "Oceania",
          "North America",
          "Africa",
          "Africa",
          "Africa",
          "North America",
          "Oceania",
          "Europe",
          "Europe",
          "Asia",
          "Europe",
          "North America",
          "Africa",
          "Africa",
          "Asia",
          "Oceania",
          "Asia",
          "Europe",
          "Oceania",
          "Oceania",
          "North America",
          "Africa",
          "Africa",
          "Oceania",
          "Oceania",
          "Europe",
          "Oceania",
          "Europe",
          "Asia",
          "Asia",
          "Oceania",
          "Asia",
          "North America",
          "Oceania",
          "South America",
          "South America",
          "Asia",
          "Europe",
          "Europe",
          "North America",
          "Asia",
          "Europe",
          "Asia",
          "Europe",
          "Africa",
          "Africa",
          "North America",
          "Africa",
          "North America",
          "North America",
          "North America",
          "North America",
          "North America",
          "Oceania",
          "Africa",
          "Asia",
          "Africa",
          "Europe",
          "Africa",
          "Africa",
          "Asia",
          "North America",
          "Europe",
          "Europe",
          "Oceania",
          "Africa",
          "Africa",
          "Africa",
          "Europe",
          "Asia",
          "Africa",
          "South America",
          "Europe",
          "Europe",
          "Asia",
          "Asia",
          "Asia",
          "Africa",
          "Asia",
          "Asia",
          "Africa",
          "Oceania",
          "North America",
          "Africa",
          "Asia",
          "Europe",
          "Asia",
          "North America",
          "Oceania",
          "Africa",
          "Europe",
          "Asia",
          "Europe",
          "North America",
          "Oceania",
          "South America",
          "Asia",
          "Oceania",
          "South America",
          "Asia",
          "North America",
          "North America",
          "Oceania",
          "Africa",
          "Asia",
          "Africa",
          "Africa",
          "",
          "",
          "",
          "",
          "",
          ""
         ],
         "type": "sunburst",
         "values": [
          372,
          12,
          449,
          45,
          7,
          445,
          14,
          20,
          1203,
          21,
          9,
          6370,
          91,
          87,
          402,
          12,
          180,
          13,
          67,
          72,
          218,
          51,
          21,
          46,
          404,
          33,
          47,
          174,
          4504,
          16,
          8,
          110,
          274,
          39,
          115,
          124,
          221,
          5424,
          27,
          241,
          231,
          582,
          2779,
          11,
          8,
          1643,
          47,
          285,
          678,
          98,
          313,
          100,
          343,
          54,
          141,
          235,
          184,
          44,
          27,
          137,
          287,
          299,
          299,
          14,
          61,
          48,
          52,
          23,
          544,
          27,
          11,
          300,
          338,
          1382,
          83,
          535,
          326,
          15,
          35,
          1161,
          41,
          9,
          488,
          359,
          23,
          56,
          26,
          245,
          16,
          121,
          10,
          288,
          56,
          312,
          36,
          65,
          409,
          1486,
          2358,
          816,
          123,
          193,
          12,
          163,
          669,
          83,
          1004,
          4,
          43,
          284,
          425,
          252,
          56,
          332,
          23,
          38,
          171,
          34,
          25,
          177,
          160,
          221,
          63,
          9,
          14,
          663,
          122,
          687,
          133,
          132,
          16,
          353,
          10,
          199,
          24,
          13,
          1073,
          64,
          24,
          7,
          263,
          45,
          17,
          260,
          397,
          462,
          7,
          441,
          162,
          151,
          594,
          143,
          60,
          278,
          15,
          10,
          26,
          43,
          603,
          201,
          718,
          5,
          31,
          406,
          4081,
          162,
          483,
          778,
          220,
          239,
          160,
          39,
          185,
          2247,
          2247,
          50,
          20,
          11,
          20,
          23,
          18,
          24,
          25,
          46,
          43,
          29,
          367,
          159,
          43,
          62,
          84,
          44,
          9,
          75,
          32,
          418,
          226,
          945,
          48,
          607,
          361,
          264,
          159,
          579,
          146,
          85,
          221,
          43,
          345,
          500,
          84,
          23,
          69,
          23,
          105,
          704,
          704,
          54,
          68,
          16,
          154,
          398,
          158,
          1371,
          22104,
          27,
          163,
          128,
          327,
          730,
          368,
          31,
          52,
          17,
          39,
          186,
          222,
          148,
          11091,
          20327,
          13834,
          32033,
          13866,
          10718
         ]
        }
       ],
       "layout": {
        "coloraxis": {
         "cmid": 6362.735444541519,
         "colorbar": {
          "title": {
           "text": "count"
          }
         },
         "colorscale": [
          [
           0,
           "rgb(103,0,31)"
          ],
          [
           0.1,
           "rgb(178,24,43)"
          ],
          [
           0.2,
           "rgb(214,96,77)"
          ],
          [
           0.3,
           "rgb(244,165,130)"
          ],
          [
           0.4,
           "rgb(253,219,199)"
          ],
          [
           0.5,
           "rgb(247,247,247)"
          ],
          [
           0.6,
           "rgb(209,229,240)"
          ],
          [
           0.7,
           "rgb(146,197,222)"
          ],
          [
           0.8,
           "rgb(67,147,195)"
          ],
          [
           0.9,
           "rgb(33,102,172)"
          ],
          [
           1,
           "rgb(5,48,97)"
          ]
         ]
        },
        "legend": {
         "tracegroupgap": 0
        },
        "template": {
         "data": {
          "bar": [
           {
            "error_x": {
             "color": "#2a3f5f"
            },
            "error_y": {
             "color": "#2a3f5f"
            },
            "marker": {
             "line": {
              "color": "#E5ECF6",
              "width": 0.5
             },
             "pattern": {
              "fillmode": "overlay",
              "size": 10,
              "solidity": 0.2
             }
            },
            "type": "bar"
           }
          ],
          "barpolar": [
           {
            "marker": {
             "line": {
              "color": "#E5ECF6",
              "width": 0.5
             },
             "pattern": {
              "fillmode": "overlay",
              "size": 10,
              "solidity": 0.2
             }
            },
            "type": "barpolar"
           }
          ],
          "carpet": [
           {
            "aaxis": {
             "endlinecolor": "#2a3f5f",
             "gridcolor": "white",
             "linecolor": "white",
             "minorgridcolor": "white",
             "startlinecolor": "#2a3f5f"
            },
            "baxis": {
             "endlinecolor": "#2a3f5f",
             "gridcolor": "white",
             "linecolor": "white",
             "minorgridcolor": "white",
             "startlinecolor": "#2a3f5f"
            },
            "type": "carpet"
           }
          ],
          "choropleth": [
           {
            "colorbar": {
             "outlinewidth": 0,
             "ticks": ""
            },
            "type": "choropleth"
           }
          ],
          "contour": [
           {
            "colorbar": {
             "outlinewidth": 0,
             "ticks": ""
            },
            "colorscale": [
             [
              0,
              "#0d0887"
             ],
             [
              0.1111111111111111,
              "#46039f"
             ],
             [
              0.2222222222222222,
              "#7201a8"
             ],
             [
              0.3333333333333333,
              "#9c179e"
             ],
             [
              0.4444444444444444,
              "#bd3786"
             ],
             [
              0.5555555555555556,
              "#d8576b"
             ],
             [
              0.6666666666666666,
              "#ed7953"
             ],
             [
              0.7777777777777778,
              "#fb9f3a"
             ],
             [
              0.8888888888888888,
              "#fdca26"
             ],
             [
              1,
              "#f0f921"
             ]
            ],
            "type": "contour"
           }
          ],
          "contourcarpet": [
           {
            "colorbar": {
             "outlinewidth": 0,
             "ticks": ""
            },
            "type": "contourcarpet"
           }
          ],
          "heatmap": [
           {
            "colorbar": {
             "outlinewidth": 0,
             "ticks": ""
            },
            "colorscale": [
             [
              0,
              "#0d0887"
             ],
             [
              0.1111111111111111,
              "#46039f"
             ],
             [
              0.2222222222222222,
              "#7201a8"
             ],
             [
              0.3333333333333333,
              "#9c179e"
             ],
             [
              0.4444444444444444,
              "#bd3786"
             ],
             [
              0.5555555555555556,
              "#d8576b"
             ],
             [
              0.6666666666666666,
              "#ed7953"
             ],
             [
              0.7777777777777778,
              "#fb9f3a"
             ],
             [
              0.8888888888888888,
              "#fdca26"
             ],
             [
              1,
              "#f0f921"
             ]
            ],
            "type": "heatmap"
           }
          ],
          "heatmapgl": [
           {
            "colorbar": {
             "outlinewidth": 0,
             "ticks": ""
            },
            "colorscale": [
             [
              0,
              "#0d0887"
             ],
             [
              0.1111111111111111,
              "#46039f"
             ],
             [
              0.2222222222222222,
              "#7201a8"
             ],
             [
              0.3333333333333333,
              "#9c179e"
             ],
             [
              0.4444444444444444,
              "#bd3786"
             ],
             [
              0.5555555555555556,
              "#d8576b"
             ],
             [
              0.6666666666666666,
              "#ed7953"
             ],
             [
              0.7777777777777778,
              "#fb9f3a"
             ],
             [
              0.8888888888888888,
              "#fdca26"
             ],
             [
              1,
              "#f0f921"
             ]
            ],
            "type": "heatmapgl"
           }
          ],
          "histogram": [
           {
            "marker": {
             "pattern": {
              "fillmode": "overlay",
              "size": 10,
              "solidity": 0.2
             }
            },
            "type": "histogram"
           }
          ],
          "histogram2d": [
           {
            "colorbar": {
             "outlinewidth": 0,
             "ticks": ""
            },
            "colorscale": [
             [
              0,
              "#0d0887"
             ],
             [
              0.1111111111111111,
              "#46039f"
             ],
             [
              0.2222222222222222,
              "#7201a8"
             ],
             [
              0.3333333333333333,
              "#9c179e"
             ],
             [
              0.4444444444444444,
              "#bd3786"
             ],
             [
              0.5555555555555556,
              "#d8576b"
             ],
             [
              0.6666666666666666,
              "#ed7953"
             ],
             [
              0.7777777777777778,
              "#fb9f3a"
             ],
             [
              0.8888888888888888,
              "#fdca26"
             ],
             [
              1,
              "#f0f921"
             ]
            ],
            "type": "histogram2d"
           }
          ],
          "histogram2dcontour": [
           {
            "colorbar": {
             "outlinewidth": 0,
             "ticks": ""
            },
            "colorscale": [
             [
              0,
              "#0d0887"
             ],
             [
              0.1111111111111111,
              "#46039f"
             ],
             [
              0.2222222222222222,
              "#7201a8"
             ],
             [
              0.3333333333333333,
              "#9c179e"
             ],
             [
              0.4444444444444444,
              "#bd3786"
             ],
             [
              0.5555555555555556,
              "#d8576b"
             ],
             [
              0.6666666666666666,
              "#ed7953"
             ],
             [
              0.7777777777777778,
              "#fb9f3a"
             ],
             [
              0.8888888888888888,
              "#fdca26"
             ],
             [
              1,
              "#f0f921"
             ]
            ],
            "type": "histogram2dcontour"
           }
          ],
          "mesh3d": [
           {
            "colorbar": {
             "outlinewidth": 0,
             "ticks": ""
            },
            "type": "mesh3d"
           }
          ],
          "parcoords": [
           {
            "line": {
             "colorbar": {
              "outlinewidth": 0,
              "ticks": ""
             }
            },
            "type": "parcoords"
           }
          ],
          "pie": [
           {
            "automargin": true,
            "type": "pie"
           }
          ],
          "scatter": [
           {
            "fillpattern": {
             "fillmode": "overlay",
             "size": 10,
             "solidity": 0.2
            },
            "type": "scatter"
           }
          ],
          "scatter3d": [
           {
            "line": {
             "colorbar": {
              "outlinewidth": 0,
              "ticks": ""
             }
            },
            "marker": {
             "colorbar": {
              "outlinewidth": 0,
              "ticks": ""
             }
            },
            "type": "scatter3d"
           }
          ],
          "scattercarpet": [
           {
            "marker": {
             "colorbar": {
              "outlinewidth": 0,
              "ticks": ""
             }
            },
            "type": "scattercarpet"
           }
          ],
          "scattergeo": [
           {
            "marker": {
             "colorbar": {
              "outlinewidth": 0,
              "ticks": ""
             }
            },
            "type": "scattergeo"
           }
          ],
          "scattergl": [
           {
            "marker": {
             "colorbar": {
              "outlinewidth": 0,
              "ticks": ""
             }
            },
            "type": "scattergl"
           }
          ],
          "scattermapbox": [
           {
            "marker": {
             "colorbar": {
              "outlinewidth": 0,
              "ticks": ""
             }
            },
            "type": "scattermapbox"
           }
          ],
          "scatterpolar": [
           {
            "marker": {
             "colorbar": {
              "outlinewidth": 0,
              "ticks": ""
             }
            },
            "type": "scatterpolar"
           }
          ],
          "scatterpolargl": [
           {
            "marker": {
             "colorbar": {
              "outlinewidth": 0,
              "ticks": ""
             }
            },
            "type": "scatterpolargl"
           }
          ],
          "scatterternary": [
           {
            "marker": {
             "colorbar": {
              "outlinewidth": 0,
              "ticks": ""
             }
            },
            "type": "scatterternary"
           }
          ],
          "surface": [
           {
            "colorbar": {
             "outlinewidth": 0,
             "ticks": ""
            },
            "colorscale": [
             [
              0,
              "#0d0887"
             ],
             [
              0.1111111111111111,
              "#46039f"
             ],
             [
              0.2222222222222222,
              "#7201a8"
             ],
             [
              0.3333333333333333,
              "#9c179e"
             ],
             [
              0.4444444444444444,
              "#bd3786"
             ],
             [
              0.5555555555555556,
              "#d8576b"
             ],
             [
              0.6666666666666666,
              "#ed7953"
             ],
             [
              0.7777777777777778,
              "#fb9f3a"
             ],
             [
              0.8888888888888888,
              "#fdca26"
             ],
             [
              1,
              "#f0f921"
             ]
            ],
            "type": "surface"
           }
          ],
          "table": [
           {
            "cells": {
             "fill": {
              "color": "#EBF0F8"
             },
             "line": {
              "color": "white"
             }
            },
            "header": {
             "fill": {
              "color": "#C8D4E3"
             },
             "line": {
              "color": "white"
             }
            },
            "type": "table"
           }
          ]
         },
         "layout": {
          "annotationdefaults": {
           "arrowcolor": "#2a3f5f",
           "arrowhead": 0,
           "arrowwidth": 1
          },
          "autotypenumbers": "strict",
          "coloraxis": {
           "colorbar": {
            "outlinewidth": 0,
            "ticks": ""
           }
          },
          "colorscale": {
           "diverging": [
            [
             0,
             "#8e0152"
            ],
            [
             0.1,
             "#c51b7d"
            ],
            [
             0.2,
             "#de77ae"
            ],
            [
             0.3,
             "#f1b6da"
            ],
            [
             0.4,
             "#fde0ef"
            ],
            [
             0.5,
             "#f7f7f7"
            ],
            [
             0.6,
             "#e6f5d0"
            ],
            [
             0.7,
             "#b8e186"
            ],
            [
             0.8,
             "#7fbc41"
            ],
            [
             0.9,
             "#4d9221"
            ],
            [
             1,
             "#276419"
            ]
           ],
           "sequential": [
            [
             0,
             "#0d0887"
            ],
            [
             0.1111111111111111,
             "#46039f"
            ],
            [
             0.2222222222222222,
             "#7201a8"
            ],
            [
             0.3333333333333333,
             "#9c179e"
            ],
            [
             0.4444444444444444,
             "#bd3786"
            ],
            [
             0.5555555555555556,
             "#d8576b"
            ],
            [
             0.6666666666666666,
             "#ed7953"
            ],
            [
             0.7777777777777778,
             "#fb9f3a"
            ],
            [
             0.8888888888888888,
             "#fdca26"
            ],
            [
             1,
             "#f0f921"
            ]
           ],
           "sequentialminus": [
            [
             0,
             "#0d0887"
            ],
            [
             0.1111111111111111,
             "#46039f"
            ],
            [
             0.2222222222222222,
             "#7201a8"
            ],
            [
             0.3333333333333333,
             "#9c179e"
            ],
            [
             0.4444444444444444,
             "#bd3786"
            ],
            [
             0.5555555555555556,
             "#d8576b"
            ],
            [
             0.6666666666666666,
             "#ed7953"
            ],
            [
             0.7777777777777778,
             "#fb9f3a"
            ],
            [
             0.8888888888888888,
             "#fdca26"
            ],
            [
             1,
             "#f0f921"
            ]
           ]
          },
          "colorway": [
           "#636efa",
           "#EF553B",
           "#00cc96",
           "#ab63fa",
           "#FFA15A",
           "#19d3f3",
           "#FF6692",
           "#B6E880",
           "#FF97FF",
           "#FECB52"
          ],
          "font": {
           "color": "#2a3f5f"
          },
          "geo": {
           "bgcolor": "white",
           "lakecolor": "white",
           "landcolor": "#E5ECF6",
           "showlakes": true,
           "showland": true,
           "subunitcolor": "white"
          },
          "hoverlabel": {
           "align": "left"
          },
          "hovermode": "closest",
          "mapbox": {
           "style": "light"
          },
          "paper_bgcolor": "white",
          "plot_bgcolor": "#E5ECF6",
          "polar": {
           "angularaxis": {
            "gridcolor": "white",
            "linecolor": "white",
            "ticks": ""
           },
           "bgcolor": "#E5ECF6",
           "radialaxis": {
            "gridcolor": "white",
            "linecolor": "white",
            "ticks": ""
           }
          },
          "scene": {
           "xaxis": {
            "backgroundcolor": "#E5ECF6",
            "gridcolor": "white",
            "gridwidth": 2,
            "linecolor": "white",
            "showbackground": true,
            "ticks": "",
            "zerolinecolor": "white"
           },
           "yaxis": {
            "backgroundcolor": "#E5ECF6",
            "gridcolor": "white",
            "gridwidth": 2,
            "linecolor": "white",
            "showbackground": true,
            "ticks": "",
            "zerolinecolor": "white"
           },
           "zaxis": {
            "backgroundcolor": "#E5ECF6",
            "gridcolor": "white",
            "gridwidth": 2,
            "linecolor": "white",
            "showbackground": true,
            "ticks": "",
            "zerolinecolor": "white"
           }
          },
          "shapedefaults": {
           "line": {
            "color": "#2a3f5f"
           }
          },
          "ternary": {
           "aaxis": {
            "gridcolor": "white",
            "linecolor": "white",
            "ticks": ""
           },
           "baxis": {
            "gridcolor": "white",
            "linecolor": "white",
            "ticks": ""
           },
           "bgcolor": "#E5ECF6",
           "caxis": {
            "gridcolor": "white",
            "linecolor": "white",
            "ticks": ""
           }
          },
          "title": {
           "x": 0.05
          },
          "xaxis": {
           "automargin": true,
           "gridcolor": "white",
           "linecolor": "white",
           "ticks": "",
           "title": {
            "standoff": 15
           },
           "zerolinecolor": "white",
           "zerolinewidth": 2
          },
          "yaxis": {
           "automargin": true,
           "gridcolor": "white",
           "linecolor": "white",
           "ticks": "",
           "title": {
            "standoff": 15
           },
           "zerolinecolor": "white",
           "zerolinewidth": 2
          }
         }
        },
        "title": {
         "text": "Airport Country and Continent wise Passengers"
        }
       }
      }
     },
     "metadata": {},
     "output_type": "display_data"
    }
   ],
   "source": [
    "fig = px.sunburst(new_df, path=['Continents', 'Country Name'], values='count',\n",
    "                  color='count', \n",
    "                  color_continuous_scale='RdBu',\n",
    "                  color_continuous_midpoint=np.average(new_df['count'], weights=new_df['count']),\n",
    "                  title= \"Airport Country and Continent wise Passengers\")\n",
    "fig.show()"
   ]
  },
  {
   "cell_type": "markdown",
   "id": "570b7212",
   "metadata": {},
   "source": [
    "#### Câu 4: Thời gian trung bình mà các chuyến bay đã diễn ra?"
   ]
  },
  {
   "cell_type": "markdown",
   "id": "f7ad9910",
   "metadata": {},
   "source": [
    "##### Bước 1: Nhóm dữ liệu theo tháng"
   ]
  },
  {
   "cell_type": "code",
   "execution_count": 28,
   "id": "70ad8f66",
   "metadata": {},
   "outputs": [],
   "source": [
    "monthly_flights = data.groupby('month')['Passenger ID'].count().reset_index()\n",
    "monthly_flights['month'] = monthly_flights['month'].astype(int)\n",
    "\n",
    "monthly_flights = monthly_flights.sort_values(by='month')"
   ]
  },
  {
   "cell_type": "markdown",
   "id": "fab01f02",
   "metadata": {},
   "source": [
    "##### Bước 2: Xác định tháng có số lượng chuyến bay cao nhất"
   ]
  },
  {
   "cell_type": "code",
   "execution_count": 29,
   "id": "7bd1086a",
   "metadata": {},
   "outputs": [],
   "source": [
    "max_month = monthly_flights.loc[monthly_flights['Passenger ID'].idxmax()]['month']"
   ]
  },
  {
   "cell_type": "markdown",
   "id": "4597c3d1",
   "metadata": {},
   "source": [
    "##### Bước 3: Nhóm dữ liệu theo ngày trong tháng"
   ]
  },
  {
   "cell_type": "code",
   "execution_count": 30,
   "id": "350a2175",
   "metadata": {},
   "outputs": [],
   "source": [
    "daily_flights = data.groupby(['month', 'day'])['Passenger ID'].count().reset_index()"
   ]
  },
  {
   "cell_type": "markdown",
   "id": "e2395d32",
   "metadata": {},
   "source": [
    "##### Bước 4: Xác định ngày trong tháng có số lượng chuyến bay cao nhất"
   ]
  },
  {
   "cell_type": "code",
   "execution_count": 31,
   "id": "61b0e14c",
   "metadata": {},
   "outputs": [],
   "source": [
    "max_day_info = daily_flights.loc[daily_flights.groupby('month')['Passenger ID'].idxmax()]"
   ]
  },
  {
   "cell_type": "code",
   "execution_count": 32,
   "id": "6fdb3b32",
   "metadata": {},
   "outputs": [
    {
     "data": {
      "image/png": "[encoded data removed]",
      "text/plain": [
       "<Figure size 1200x1000 with 2 Axes>"
      ]
     },
     "metadata": {},
     "output_type": "display_data"
    }
   ],
   "source": [
    "# Trực quan hóa kết quả\n",
    "fig, axes = plt.subplots(nrows=2, ncols=1, figsize=(12, 10))\n",
    "\n",
    "# Biểu đồ 1: Lượng chuyến bay theo tháng\n",
    "axes[0].bar(monthly_flights['month'], monthly_flights['Passenger ID'], color='skyblue')\n",
    "axes[0].set_title('Lượng chuyến bay theo tháng')\n",
    "axes[0].set_xlabel('Tháng')\n",
    "axes[0].set_ylabel('Số lượng chuyến bay')\n",
    "\n",
    "# Biểu đồ 2: Lượng chuyến bay theo ngày trong tháng\n",
    "axes[1].scatter(max_day_info['month'], max_day_info['day'], s=max_day_info['Passenger ID'], alpha=0.5)\n",
    "axes[1].set_title('Ngày trong tháng có lượng chuyến bay cao nhất')\n",
    "axes[1].set_xlabel('Tháng')\n",
    "axes[1].set_ylabel('Ngày trong tháng')\n",
    "axes[1].grid(True)\n",
    "\n",
    "plt.tight_layout()\n",
    "plt.show()"
   ]
  }
 ],
 "metadata": {
  "kernelspec": {
   "display_name": "Python 3 (ipykernel)",
   "language": "python",
   "name": "python3"
  },
  "language_info": {
   "codemirror_mode": {
    "name": "ipython",
    "version": 3
   },
   "file_extension": ".py",
   "mimetype": "text/x-python",
   "name": "python",
   "nbconvert_exporter": "python",
   "pygments_lexer": "ipython3",
   "version": "3.11.5"
  }
 },
 "nbformat": 4,
 "nbformat_minor": 5
}
