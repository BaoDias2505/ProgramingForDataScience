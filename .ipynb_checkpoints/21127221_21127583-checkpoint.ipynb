{
 "cells": [
  {
   "cell_type": "code",
   "execution_count": 1,
   "id": "15562dd0-2ae5-43ca-b87f-956646557183",
   "metadata": {},
   "outputs": [],
   "source": [
    "# *Final Project - Lập trình cho Khoa học Dữ liệu*"
   ]
  },
  {
   "cell_type": "code",
   "execution_count": 1,
   "id": "12c86c5b-f882-4795-b7a9-522c307da622",
   "metadata": {},
   "outputs": [],
   "source": [
    "# *Final Project - Lập trình cho Khoa học Dữ liệu*"
   ]
  },
  {
   "cell_type": "code",
   "execution_count": null,
   "id": "31b95733-cf9f-419d-94ca-44427f9e4257",
   "metadata": {},
   "outputs": [],
   "source": []
  }
 ],
 "metadata": {
  "kernelspec": {
   "display_name": "Python 3 (ipykernel)",
   "language": "python",
   "name": "python3"
  },
  "language_info": {
   "codemirror_mode": {
    "name": "ipython",
    "version": 3
   },
   "file_extension": ".py",
   "mimetype": "text/x-python",
   "name": "python",
   "nbconvert_exporter": "python",
   "pygments_lexer": "ipython3",
   "version": "3.9.18"
  }
 },
 "nbformat": 4,
 "nbformat_minor": 5
}
